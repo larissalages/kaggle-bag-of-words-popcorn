{
 "cells": [
  {
   "cell_type": "code",
   "execution_count": 1,
   "metadata": {},
   "outputs": [
    {
     "name": "stdout",
     "output_type": "stream",
     "text": [
      "showing info https://raw.githubusercontent.com/nltk/nltk_data/gh-pages/index.xml\n"
     ]
    }
   ],
   "source": [
    "import pandas as pd\n",
    "import os\n",
    "from bs4 import BeautifulSoup\n",
    "import re\n",
    "import nltk.data\n",
    "nltk.download()\n",
    "from nltk.corpus import stopwords\n",
    "from gensim.models import word2vec\n",
    "# Import the built-in logging module and configure it so that Word2Vec \n",
    "# creates nice output messages\n",
    "import logging\n",
    "logging.basicConfig(format='%(asctime)s : %(levelname)s : %(message)s',\\\n",
    "    level=logging.INFO)"
   ]
  },
  {
   "cell_type": "code",
   "execution_count": 22,
   "metadata": {},
   "outputs": [],
   "source": [
    "# Read data from files \n",
    "path_raw = os.getcwd().replace('notebooks', 'data/raw/')\n",
    "\n",
    "train = pd.read_csv(path_raw + \"labeledTrainData.tsv\", header=0, \n",
    " delimiter=\"\\t\", quoting=3 )\n",
    "\n",
    "test = pd.read_csv(path_raw + \"testData.tsv\", header=0, delimiter=\"\\t\", quoting=3 )\n",
    "\n",
    "unlabeled_train = pd.read_csv(path_raw + \"unlabeledTrainData.tsv\", header=0, \n",
    " delimiter=\"\\t\", quoting=3 )"
   ]
  },
  {
   "cell_type": "code",
   "execution_count": 23,
   "metadata": {},
   "outputs": [
    {
     "name": "stdout",
     "output_type": "stream",
     "text": [
      "Read 25000 labeled train reviews, 25000 labeled test reviews, and 50000 unlabeled reviews\n",
      "\n"
     ]
    }
   ],
   "source": [
    "# Verify the number of reviews that were read (100,000 in total)\n",
    "print(\"Read %d labeled train reviews, %d labeled test reviews, and %d unlabeled reviews\\n\" % (train[\"review\"].size,  \n",
    "test[\"review\"].size, unlabeled_train[\"review\"].size ))"
   ]
  },
  {
   "cell_type": "code",
   "execution_count": 24,
   "metadata": {},
   "outputs": [],
   "source": [
    "def review_to_wordlist( review, remove_stopwords=False ):\n",
    "    # Function to convert a document to a sequence of words,\n",
    "    # optionally removing stop words.  Returns a list of words.\n",
    "    #\n",
    "    # 1. Remove HTML\n",
    "    review_text = BeautifulSoup(review).get_text()\n",
    "    #  \n",
    "    # 2. Remove non-letters\n",
    "    review_text = re.sub(\"[^a-zA-Z]\",\" \", review_text)\n",
    "    #\n",
    "    # 3. Convert words to lower case and split them\n",
    "    words = review_text.lower().decode('utf-8').split()\n",
    "    #\n",
    "    # 4. Optionally remove stop words (false by default)\n",
    "    if remove_stopwords:\n",
    "        stops = set(stopwords.words(\"english\"))\n",
    "        words = [w for w in words if not w in stops]\n",
    "    #\n",
    "    # 5. Return a list of words\n",
    "    return(words)"
   ]
  },
  {
   "cell_type": "code",
   "execution_count": 25,
   "metadata": {},
   "outputs": [],
   "source": [
    "# for sentence splitting\n",
    "tokenizer = nltk.data.load('tokenizers/punkt/english.pickle')"
   ]
  },
  {
   "cell_type": "code",
   "execution_count": 26,
   "metadata": {},
   "outputs": [],
   "source": [
    "raw_sentences = tokenizer.tokenize(train[\"review\"][0].strip())"
   ]
  },
  {
   "cell_type": "code",
   "execution_count": 27,
   "metadata": {},
   "outputs": [
    {
     "name": "stdout",
     "output_type": "stream",
     "text": [
      "\"With all this stuff going down at the moment with MJ i've started listening to his music, watching the odd documentary here and there, watched The Wiz and watched Moonwalker again.\n",
      "Maybe i just want to get a certain insight into this guy who i thought was really cool in the eighties just to maybe make up my mind whether he is guilty or innocent.\n",
      "Moonwalker is part biography, part feature film which i remember going to see at the cinema when it was originally released.\n"
     ]
    }
   ],
   "source": [
    "print(raw_sentences[0])\n",
    "print(raw_sentences[1])\n",
    "print(raw_sentences[2])"
   ]
  },
  {
   "cell_type": "code",
   "execution_count": 30,
   "metadata": {},
   "outputs": [],
   "source": [
    "# Define a function to split a review into parsed sentences\n",
    "def review_to_sentences( review, tokenizer, remove_stopwords=False ):\n",
    "    # Function to split a review into parsed sentences. Returns a \n",
    "    # list of sentences, where each sentence is a list of words\n",
    "    #\n",
    "    # 1. Use the NLTK tokenizer to split the paragraph into sentences\n",
    "    raw_sentences = tokenizer.tokenize(review.decode('utf-8').strip())\n",
    "    #\n",
    "    # 2. Loop over each sentence\n",
    "    sentences = []\n",
    "    for raw_sentence in raw_sentences:\n",
    "        # If a sentence is empty, skip it\n",
    "        if len(raw_sentence) > 0:\n",
    "            # Otherwise, call review_to_wordlist to get a list of words\n",
    "            sentences.append( review_to_wordlist( raw_sentence, \\\n",
    "              remove_stopwords ))\n",
    "    #\n",
    "    # Return the list of sentences (each sentence is a list of words,\n",
    "    # so this returns a list of lists\n",
    "    return sentences"
   ]
  },
  {
   "cell_type": "code",
   "execution_count": 31,
   "metadata": {},
   "outputs": [
    {
     "name": "stdout",
     "output_type": "stream",
     "text": [
      "Parsing sentences from training set\n"
     ]
    },
    {
     "name": "stderr",
     "output_type": "stream",
     "text": [
      "/Users/loliveira/miniconda3/envs/kaggle/lib/python2.7/site-packages/bs4/__init__.py:294: UserWarning: \".\" looks like a filename, not markup. You should probably open this file and pass the filehandle into Beautiful Soup.\n",
      "  ' Beautiful Soup.' % markup)\n",
      "/Users/loliveira/miniconda3/envs/kaggle/lib/python2.7/site-packages/bs4/__init__.py:357: UserWarning: \"http://www.happierabroad.com\"\" looks like a URL. Beautiful Soup is not an HTTP client. You should probably use an HTTP client like requests to get the document behind the URL, and feed that document to Beautiful Soup.\n",
      "  ' that document to Beautiful Soup.' % decoded_markup\n"
     ]
    },
    {
     "name": "stdout",
     "output_type": "stream",
     "text": [
      "Parsing sentences from unlabeled set\n"
     ]
    },
    {
     "name": "stderr",
     "output_type": "stream",
     "text": [
      "/Users/loliveira/miniconda3/envs/kaggle/lib/python2.7/site-packages/bs4/__init__.py:357: UserWarning: \"http://www.archive.org/details/LovefromaStranger\"\" looks like a URL. Beautiful Soup is not an HTTP client. You should probably use an HTTP client like requests to get the document behind the URL, and feed that document to Beautiful Soup.\n",
      "  ' that document to Beautiful Soup.' % decoded_markup\n",
      "/Users/loliveira/miniconda3/envs/kaggle/lib/python2.7/site-packages/bs4/__init__.py:357: UserWarning: \"http://www.loosechangeguide.com/LooseChangeGuide.html\"\" looks like a URL. Beautiful Soup is not an HTTP client. You should probably use an HTTP client like requests to get the document behind the URL, and feed that document to Beautiful Soup.\n",
      "  ' that document to Beautiful Soup.' % decoded_markup\n",
      "/Users/loliveira/miniconda3/envs/kaggle/lib/python2.7/site-packages/bs4/__init__.py:357: UserWarning: \"http://www.msnbc.msn.com/id/4972055/site/newsweek/\"\" looks like a URL. Beautiful Soup is not an HTTP client. You should probably use an HTTP client like requests to get the document behind the URL, and feed that document to Beautiful Soup.\n",
      "  ' that document to Beautiful Soup.' % decoded_markup\n",
      "/Users/loliveira/miniconda3/envs/kaggle/lib/python2.7/site-packages/bs4/__init__.py:294: UserWarning: \"..\" looks like a filename, not markup. You should probably open this file and pass the filehandle into Beautiful Soup.\n",
      "  ' Beautiful Soup.' % markup)\n",
      "/Users/loliveira/miniconda3/envs/kaggle/lib/python2.7/site-packages/bs4/__init__.py:357: UserWarning: \"http://www.youtube.com/watch?v=a0KSqelmgN8\"\" looks like a URL. Beautiful Soup is not an HTTP client. You should probably use an HTTP client like requests to get the document behind the URL, and feed that document to Beautiful Soup.\n",
      "  ' that document to Beautiful Soup.' % decoded_markup\n",
      "/Users/loliveira/miniconda3/envs/kaggle/lib/python2.7/site-packages/bs4/__init__.py:357: UserWarning: \"http://jake-weird.blogspot.com/2007/08/beneath.html\"\" looks like a URL. Beautiful Soup is not an HTTP client. You should probably use an HTTP client like requests to get the document behind the URL, and feed that document to Beautiful Soup.\n",
      "  ' that document to Beautiful Soup.' % decoded_markup\n"
     ]
    }
   ],
   "source": [
    "sentences = []  # Initialize an empty list of sentences\n",
    "\n",
    "print (\"Parsing sentences from training set\")\n",
    "for review in train[\"review\"]:\n",
    "    sentences += review_to_sentences(review, tokenizer)\n",
    "\n",
    "print (\"Parsing sentences from unlabeled set\")\n",
    "for review in unlabeled_train[\"review\"]:\n",
    "    sentences += review_to_sentences(review, tokenizer)"
   ]
  },
  {
   "cell_type": "code",
   "execution_count": 32,
   "metadata": {},
   "outputs": [
    {
     "name": "stdout",
     "output_type": "stream",
     "text": [
      "Number os setences\n",
      "795538\n",
      "First setence\n",
      "[u'with', u'all', u'this', u'stuff', u'going', u'down', u'at', u'the', u'moment', u'with', u'mj', u'i', u've', u'started', u'listening', u'to', u'his', u'music', u'watching', u'the', u'odd', u'documentary', u'here', u'and', u'there', u'watched', u'the', u'wiz', u'and', u'watched', u'moonwalker', u'again']\n",
      "Second setence\n",
      "[u'maybe', u'i', u'just', u'want', u'to', u'get', u'a', u'certain', u'insight', u'into', u'this', u'guy', u'who', u'i', u'thought', u'was', u'really', u'cool', u'in', u'the', u'eighties', u'just', u'to', u'maybe', u'make', u'up', u'my', u'mind', u'whether', u'he', u'is', u'guilty', u'or', u'innocent']\n"
     ]
    }
   ],
   "source": [
    "print(\"Number os setences\")\n",
    "print(len(sentences))\n",
    "print(\"First setence\")\n",
    "print(sentences[0])\n",
    "print(\"Second setence\")\n",
    "print(sentences[1])"
   ]
  },
  {
   "cell_type": "markdown",
   "metadata": {},
   "source": [
    "### Word2Vec"
   ]
  },
  {
   "cell_type": "code",
   "execution_count": 33,
   "metadata": {},
   "outputs": [
    {
     "name": "stderr",
     "output_type": "stream",
     "text": [
      "2019-12-04 18:17:16,082 : INFO : collecting all words and their counts\n",
      "2019-12-04 18:17:16,084 : INFO : PROGRESS: at sentence #0, processed 0 words, keeping 0 word types\n",
      "2019-12-04 18:17:16,183 : INFO : PROGRESS: at sentence #10000, processed 225803 words, keeping 17776 word types\n"
     ]
    },
    {
     "name": "stdout",
     "output_type": "stream",
     "text": [
      "Training model...\n"
     ]
    },
    {
     "name": "stderr",
     "output_type": "stream",
     "text": [
      "2019-12-04 18:17:16,281 : INFO : PROGRESS: at sentence #20000, processed 451892 words, keeping 24948 word types\n",
      "2019-12-04 18:17:16,383 : INFO : PROGRESS: at sentence #30000, processed 671315 words, keeping 30034 word types\n",
      "2019-12-04 18:17:16,480 : INFO : PROGRESS: at sentence #40000, processed 897815 words, keeping 34348 word types\n",
      "2019-12-04 18:17:16,576 : INFO : PROGRESS: at sentence #50000, processed 1116963 words, keeping 37761 word types\n",
      "2019-12-04 18:17:16,675 : INFO : PROGRESS: at sentence #60000, processed 1338404 words, keeping 40723 word types\n",
      "2019-12-04 18:17:16,773 : INFO : PROGRESS: at sentence #70000, processed 1561580 words, keeping 43333 word types\n",
      "2019-12-04 18:17:16,867 : INFO : PROGRESS: at sentence #80000, processed 1780887 words, keeping 45714 word types\n",
      "2019-12-04 18:17:16,964 : INFO : PROGRESS: at sentence #90000, processed 2004996 words, keeping 48135 word types\n",
      "2019-12-04 18:17:17,061 : INFO : PROGRESS: at sentence #100000, processed 2226966 words, keeping 50207 word types\n",
      "2019-12-04 18:17:17,159 : INFO : PROGRESS: at sentence #110000, processed 2446580 words, keeping 52081 word types\n",
      "2019-12-04 18:17:17,256 : INFO : PROGRESS: at sentence #120000, processed 2668775 words, keeping 54119 word types\n",
      "2019-12-04 18:17:17,359 : INFO : PROGRESS: at sentence #130000, processed 2894303 words, keeping 55847 word types\n",
      "2019-12-04 18:17:17,454 : INFO : PROGRESS: at sentence #140000, processed 3107005 words, keeping 57346 word types\n",
      "2019-12-04 18:17:17,553 : INFO : PROGRESS: at sentence #150000, processed 3332627 words, keeping 59055 word types\n",
      "2019-12-04 18:17:17,649 : INFO : PROGRESS: at sentence #160000, processed 3555315 words, keeping 60617 word types\n",
      "2019-12-04 18:17:17,746 : INFO : PROGRESS: at sentence #170000, processed 3778655 words, keeping 62077 word types\n",
      "2019-12-04 18:17:17,841 : INFO : PROGRESS: at sentence #180000, processed 3999236 words, keeping 63496 word types\n",
      "2019-12-04 18:17:17,942 : INFO : PROGRESS: at sentence #190000, processed 4224449 words, keeping 64794 word types\n",
      "2019-12-04 18:17:18,041 : INFO : PROGRESS: at sentence #200000, processed 4448603 words, keeping 66087 word types\n",
      "2019-12-04 18:17:18,139 : INFO : PROGRESS: at sentence #210000, processed 4669967 words, keeping 67390 word types\n",
      "2019-12-04 18:17:18,239 : INFO : PROGRESS: at sentence #220000, processed 4894968 words, keeping 68697 word types\n",
      "2019-12-04 18:17:18,339 : INFO : PROGRESS: at sentence #230000, processed 5117545 words, keeping 69958 word types\n",
      "2019-12-04 18:17:18,436 : INFO : PROGRESS: at sentence #240000, processed 5345050 words, keeping 71167 word types\n",
      "2019-12-04 18:17:18,531 : INFO : PROGRESS: at sentence #250000, processed 5559165 words, keeping 72351 word types\n",
      "2019-12-04 18:17:18,629 : INFO : PROGRESS: at sentence #260000, processed 5779146 words, keeping 73478 word types\n",
      "2019-12-04 18:17:18,724 : INFO : PROGRESS: at sentence #270000, processed 6000435 words, keeping 74767 word types\n",
      "2019-12-04 18:17:18,822 : INFO : PROGRESS: at sentence #280000, processed 6226314 words, keeping 76369 word types\n",
      "2019-12-04 18:17:18,920 : INFO : PROGRESS: at sentence #290000, processed 6449474 words, keeping 77839 word types\n",
      "2019-12-04 18:17:19,019 : INFO : PROGRESS: at sentence #300000, processed 6674077 words, keeping 79171 word types\n",
      "2019-12-04 18:17:19,116 : INFO : PROGRESS: at sentence #310000, processed 6899391 words, keeping 80480 word types\n",
      "2019-12-04 18:17:19,213 : INFO : PROGRESS: at sentence #320000, processed 7124278 words, keeping 81808 word types\n",
      "2019-12-04 18:17:19,312 : INFO : PROGRESS: at sentence #330000, processed 7346021 words, keeping 83030 word types\n",
      "2019-12-04 18:17:19,413 : INFO : PROGRESS: at sentence #340000, processed 7575533 words, keeping 84280 word types\n",
      "2019-12-04 18:17:19,508 : INFO : PROGRESS: at sentence #350000, processed 7798803 words, keeping 85425 word types\n",
      "2019-12-04 18:17:19,605 : INFO : PROGRESS: at sentence #360000, processed 8019427 words, keeping 86596 word types\n",
      "2019-12-04 18:17:19,712 : INFO : PROGRESS: at sentence #370000, processed 8246619 words, keeping 87708 word types\n",
      "2019-12-04 18:17:19,812 : INFO : PROGRESS: at sentence #380000, processed 8471766 words, keeping 88878 word types\n",
      "2019-12-04 18:17:19,914 : INFO : PROGRESS: at sentence #390000, processed 8701497 words, keeping 89907 word types\n",
      "2019-12-04 18:17:20,012 : INFO : PROGRESS: at sentence #400000, processed 8924446 words, keeping 90916 word types\n",
      "2019-12-04 18:17:20,111 : INFO : PROGRESS: at sentence #410000, processed 9145796 words, keeping 91880 word types\n",
      "2019-12-04 18:17:20,211 : INFO : PROGRESS: at sentence #420000, processed 9366876 words, keeping 92912 word types\n",
      "2019-12-04 18:17:20,311 : INFO : PROGRESS: at sentence #430000, processed 9594413 words, keeping 93932 word types\n",
      "2019-12-04 18:17:20,410 : INFO : PROGRESS: at sentence #440000, processed 9821166 words, keeping 94906 word types\n",
      "2019-12-04 18:17:20,509 : INFO : PROGRESS: at sentence #450000, processed 10044928 words, keeping 96036 word types\n",
      "2019-12-04 18:17:20,617 : INFO : PROGRESS: at sentence #460000, processed 10277688 words, keeping 97088 word types\n",
      "2019-12-04 18:17:20,719 : INFO : PROGRESS: at sentence #470000, processed 10505613 words, keeping 97933 word types\n",
      "2019-12-04 18:17:20,816 : INFO : PROGRESS: at sentence #480000, processed 10725997 words, keeping 98862 word types\n",
      "2019-12-04 18:17:20,916 : INFO : PROGRESS: at sentence #490000, processed 10952741 words, keeping 99871 word types\n",
      "2019-12-04 18:17:21,016 : INFO : PROGRESS: at sentence #500000, processed 11174397 words, keeping 100765 word types\n",
      "2019-12-04 18:17:21,116 : INFO : PROGRESS: at sentence #510000, processed 11399672 words, keeping 101699 word types\n",
      "2019-12-04 18:17:21,214 : INFO : PROGRESS: at sentence #520000, processed 11623020 words, keeping 102598 word types\n",
      "2019-12-04 18:17:21,314 : INFO : PROGRESS: at sentence #530000, processed 11847418 words, keeping 103400 word types\n",
      "2019-12-04 18:17:21,413 : INFO : PROGRESS: at sentence #540000, processed 12072033 words, keeping 104265 word types\n",
      "2019-12-04 18:17:21,515 : INFO : PROGRESS: at sentence #550000, processed 12297571 words, keeping 105133 word types\n",
      "2019-12-04 18:17:21,615 : INFO : PROGRESS: at sentence #560000, processed 12518861 words, keeping 105997 word types\n",
      "2019-12-04 18:17:21,714 : INFO : PROGRESS: at sentence #570000, processed 12747916 words, keeping 106787 word types\n",
      "2019-12-04 18:17:21,813 : INFO : PROGRESS: at sentence #580000, processed 12969412 words, keeping 107665 word types\n",
      "2019-12-04 18:17:21,913 : INFO : PROGRESS: at sentence #590000, processed 13194937 words, keeping 108501 word types\n",
      "2019-12-04 18:17:22,017 : INFO : PROGRESS: at sentence #600000, processed 13417135 words, keeping 109218 word types\n",
      "2019-12-04 18:17:22,114 : INFO : PROGRESS: at sentence #610000, processed 13638158 words, keeping 110092 word types\n",
      "2019-12-04 18:17:22,213 : INFO : PROGRESS: at sentence #620000, processed 13864483 words, keeping 110837 word types\n",
      "2019-12-04 18:17:22,313 : INFO : PROGRESS: at sentence #630000, processed 14088769 words, keeping 111610 word types\n",
      "2019-12-04 18:17:22,410 : INFO : PROGRESS: at sentence #640000, processed 14309552 words, keeping 112416 word types\n",
      "2019-12-04 18:17:22,512 : INFO : PROGRESS: at sentence #650000, processed 14535308 words, keeping 113196 word types\n",
      "2019-12-04 18:17:22,613 : INFO : PROGRESS: at sentence #660000, processed 14758098 words, keeping 113945 word types\n",
      "2019-12-04 18:17:22,710 : INFO : PROGRESS: at sentence #670000, processed 14981482 words, keeping 114643 word types\n",
      "2019-12-04 18:17:22,811 : INFO : PROGRESS: at sentence #680000, processed 15206314 words, keeping 115354 word types\n",
      "2019-12-04 18:17:22,913 : INFO : PROGRESS: at sentence #690000, processed 15428507 words, keeping 116131 word types\n",
      "2019-12-04 18:17:23,015 : INFO : PROGRESS: at sentence #700000, processed 15657213 words, keeping 116943 word types\n",
      "2019-12-04 18:17:23,114 : INFO : PROGRESS: at sentence #710000, processed 15880202 words, keeping 117596 word types\n",
      "2019-12-04 18:17:23,213 : INFO : PROGRESS: at sentence #720000, processed 16105489 words, keeping 118221 word types\n",
      "2019-12-04 18:17:23,343 : INFO : PROGRESS: at sentence #730000, processed 16331870 words, keeping 118954 word types\n"
     ]
    },
    {
     "name": "stderr",
     "output_type": "stream",
     "text": [
      "2019-12-04 18:17:23,447 : INFO : PROGRESS: at sentence #740000, processed 16552903 words, keeping 119668 word types\n",
      "2019-12-04 18:17:23,564 : INFO : PROGRESS: at sentence #750000, processed 16771230 words, keeping 120295 word types\n",
      "2019-12-04 18:17:23,680 : INFO : PROGRESS: at sentence #760000, processed 16990622 words, keeping 120930 word types\n",
      "2019-12-04 18:17:23,796 : INFO : PROGRESS: at sentence #770000, processed 17217759 words, keeping 121703 word types\n",
      "2019-12-04 18:17:23,912 : INFO : PROGRESS: at sentence #780000, processed 17447905 words, keeping 122402 word types\n",
      "2019-12-04 18:17:24,025 : INFO : PROGRESS: at sentence #790000, processed 17674981 words, keeping 123066 word types\n",
      "2019-12-04 18:17:24,085 : INFO : collected 123504 word types from a corpus of 17798082 raw words and 795538 sentences\n",
      "2019-12-04 18:17:24,086 : INFO : Loading a fresh vocabulary\n",
      "2019-12-04 18:17:24,273 : INFO : effective_min_count=40 retains 16490 unique words (13% of original 123504, drops 107014)\n",
      "2019-12-04 18:17:24,274 : INFO : effective_min_count=40 leaves 17238940 word corpus (96% of original 17798082, drops 559142)\n",
      "2019-12-04 18:17:24,344 : INFO : deleting the raw counts dictionary of 123504 items\n",
      "2019-12-04 18:17:24,352 : INFO : sample=0.001 downsamples 48 most-common words\n",
      "2019-12-04 18:17:24,353 : INFO : downsampling leaves estimated 12749658 word corpus (74.0% of prior 17238940)\n",
      "2019-12-04 18:17:24,424 : INFO : estimated required memory for 16490 words and 300 dimensions: 47821000 bytes\n",
      "2019-12-04 18:17:24,425 : INFO : resetting layer weights\n",
      "2019-12-04 18:17:24,691 : INFO : training model with 4 workers on 16490 vocabulary and 300 features, using sg=0 hs=0 sample=0.001 negative=5 window=10\n",
      "2019-12-04 18:17:25,700 : INFO : EPOCH 1 - PROGRESS: at 7.71% examples, 974467 words/s, in_qsize 7, out_qsize 0\n",
      "2019-12-04 18:17:26,709 : INFO : EPOCH 1 - PROGRESS: at 14.72% examples, 926783 words/s, in_qsize 8, out_qsize 0\n",
      "2019-12-04 18:17:27,716 : INFO : EPOCH 1 - PROGRESS: at 21.46% examples, 899324 words/s, in_qsize 8, out_qsize 0\n",
      "2019-12-04 18:17:28,725 : INFO : EPOCH 1 - PROGRESS: at 28.26% examples, 888966 words/s, in_qsize 7, out_qsize 0\n",
      "2019-12-04 18:17:29,732 : INFO : EPOCH 1 - PROGRESS: at 36.40% examples, 915628 words/s, in_qsize 8, out_qsize 0\n",
      "2019-12-04 18:17:30,733 : INFO : EPOCH 1 - PROGRESS: at 44.79% examples, 941544 words/s, in_qsize 8, out_qsize 0\n",
      "2019-12-04 18:17:31,740 : INFO : EPOCH 1 - PROGRESS: at 53.16% examples, 959420 words/s, in_qsize 8, out_qsize 0\n",
      "2019-12-04 18:17:32,744 : INFO : EPOCH 1 - PROGRESS: at 61.52% examples, 973748 words/s, in_qsize 7, out_qsize 0\n",
      "2019-12-04 18:17:33,755 : INFO : EPOCH 1 - PROGRESS: at 69.31% examples, 974860 words/s, in_qsize 7, out_qsize 0\n",
      "2019-12-04 18:17:34,759 : INFO : EPOCH 1 - PROGRESS: at 77.38% examples, 979868 words/s, in_qsize 7, out_qsize 0\n",
      "2019-12-04 18:17:35,763 : INFO : EPOCH 1 - PROGRESS: at 85.74% examples, 987212 words/s, in_qsize 7, out_qsize 0\n",
      "2019-12-04 18:17:36,766 : INFO : EPOCH 1 - PROGRESS: at 94.21% examples, 994719 words/s, in_qsize 7, out_qsize 0\n",
      "2019-12-04 18:17:37,457 : INFO : worker thread finished; awaiting finish of 3 more threads\n",
      "2019-12-04 18:17:37,467 : INFO : worker thread finished; awaiting finish of 2 more threads\n",
      "2019-12-04 18:17:37,472 : INFO : worker thread finished; awaiting finish of 1 more threads\n",
      "2019-12-04 18:17:37,476 : INFO : worker thread finished; awaiting finish of 0 more threads\n",
      "2019-12-04 18:17:37,477 : INFO : EPOCH - 1 : training on 17798082 raw words (12750429 effective words) took 12.8s, 997514 effective words/s\n",
      "2019-12-04 18:17:38,484 : INFO : EPOCH 2 - PROGRESS: at 8.11% examples, 1028633 words/s, in_qsize 8, out_qsize 0\n",
      "2019-12-04 18:17:39,487 : INFO : EPOCH 2 - PROGRESS: at 16.67% examples, 1053205 words/s, in_qsize 7, out_qsize 0\n",
      "2019-12-04 18:17:40,493 : INFO : EPOCH 2 - PROGRESS: at 24.88% examples, 1047990 words/s, in_qsize 8, out_qsize 0\n",
      "2019-12-04 18:17:41,494 : INFO : EPOCH 2 - PROGRESS: at 33.38% examples, 1053348 words/s, in_qsize 7, out_qsize 0\n",
      "2019-12-04 18:17:42,495 : INFO : EPOCH 2 - PROGRESS: at 41.65% examples, 1054083 words/s, in_qsize 8, out_qsize 0\n",
      "2019-12-04 18:17:43,498 : INFO : EPOCH 2 - PROGRESS: at 49.94% examples, 1055532 words/s, in_qsize 8, out_qsize 0\n",
      "2019-12-04 18:17:44,499 : INFO : EPOCH 2 - PROGRESS: at 58.24% examples, 1056649 words/s, in_qsize 7, out_qsize 0\n",
      "2019-12-04 18:17:45,505 : INFO : EPOCH 2 - PROGRESS: at 66.69% examples, 1058814 words/s, in_qsize 7, out_qsize 0\n",
      "2019-12-04 18:17:46,510 : INFO : EPOCH 2 - PROGRESS: at 75.19% examples, 1061411 words/s, in_qsize 7, out_qsize 0\n",
      "2019-12-04 18:17:47,511 : INFO : EPOCH 2 - PROGRESS: at 83.68% examples, 1063093 words/s, in_qsize 7, out_qsize 0\n",
      "2019-12-04 18:17:48,511 : INFO : EPOCH 2 - PROGRESS: at 92.10% examples, 1064615 words/s, in_qsize 8, out_qsize 0\n",
      "2019-12-04 18:17:49,422 : INFO : worker thread finished; awaiting finish of 3 more threads\n",
      "2019-12-04 18:17:49,430 : INFO : worker thread finished; awaiting finish of 2 more threads\n",
      "2019-12-04 18:17:49,436 : INFO : worker thread finished; awaiting finish of 1 more threads\n",
      "2019-12-04 18:17:49,442 : INFO : worker thread finished; awaiting finish of 0 more threads\n",
      "2019-12-04 18:17:49,444 : INFO : EPOCH - 2 : training on 17798082 raw words (12749188 effective words) took 12.0s, 1065918 effective words/s\n",
      "2019-12-04 18:17:50,452 : INFO : EPOCH 3 - PROGRESS: at 8.28% examples, 1049522 words/s, in_qsize 8, out_qsize 0\n",
      "2019-12-04 18:17:51,453 : INFO : EPOCH 3 - PROGRESS: at 16.84% examples, 1062532 words/s, in_qsize 8, out_qsize 0\n",
      "2019-12-04 18:17:52,456 : INFO : EPOCH 3 - PROGRESS: at 25.40% examples, 1069256 words/s, in_qsize 8, out_qsize 0\n",
      "2019-12-04 18:17:53,462 : INFO : EPOCH 3 - PROGRESS: at 33.83% examples, 1066348 words/s, in_qsize 7, out_qsize 0\n",
      "2019-12-04 18:17:54,466 : INFO : EPOCH 3 - PROGRESS: at 42.14% examples, 1065383 words/s, in_qsize 7, out_qsize 0\n",
      "2019-12-04 18:17:55,473 : INFO : EPOCH 3 - PROGRESS: at 50.57% examples, 1067343 words/s, in_qsize 7, out_qsize 0\n",
      "2019-12-04 18:17:56,479 : INFO : EPOCH 3 - PROGRESS: at 58.90% examples, 1066261 words/s, in_qsize 8, out_qsize 0\n",
      "2019-12-04 18:17:57,484 : INFO : EPOCH 3 - PROGRESS: at 67.18% examples, 1064726 words/s, in_qsize 8, out_qsize 0\n",
      "2019-12-04 18:17:58,488 : INFO : EPOCH 3 - PROGRESS: at 75.64% examples, 1065982 words/s, in_qsize 7, out_qsize 0\n",
      "2019-12-04 18:17:59,496 : INFO : EPOCH 3 - PROGRESS: at 83.95% examples, 1064341 words/s, in_qsize 8, out_qsize 0\n",
      "2019-12-04 18:18:00,506 : INFO : EPOCH 3 - PROGRESS: at 92.28% examples, 1063709 words/s, in_qsize 8, out_qsize 0\n",
      "2019-12-04 18:18:01,406 : INFO : worker thread finished; awaiting finish of 3 more threads\n",
      "2019-12-04 18:18:01,415 : INFO : worker thread finished; awaiting finish of 2 more threads\n",
      "2019-12-04 18:18:01,419 : INFO : worker thread finished; awaiting finish of 1 more threads\n",
      "2019-12-04 18:18:01,424 : INFO : worker thread finished; awaiting finish of 0 more threads\n",
      "2019-12-04 18:18:01,425 : INFO : EPOCH - 3 : training on 17798082 raw words (12748219 effective words) took 12.0s, 1064259 effective words/s\n",
      "2019-12-04 18:18:02,435 : INFO : EPOCH 4 - PROGRESS: at 8.16% examples, 1029202 words/s, in_qsize 8, out_qsize 0\n",
      "2019-12-04 18:18:03,440 : INFO : EPOCH 4 - PROGRESS: at 16.56% examples, 1041747 words/s, in_qsize 7, out_qsize 0\n",
      "2019-12-04 18:18:04,446 : INFO : EPOCH 4 - PROGRESS: at 24.88% examples, 1044930 words/s, in_qsize 7, out_qsize 0\n",
      "2019-12-04 18:18:05,451 : INFO : EPOCH 4 - PROGRESS: at 33.15% examples, 1043175 words/s, in_qsize 7, out_qsize 0\n",
      "2019-12-04 18:18:06,458 : INFO : EPOCH 4 - PROGRESS: at 41.49% examples, 1047054 words/s, in_qsize 7, out_qsize 0\n",
      "2019-12-04 18:18:07,456 : INFO : EPOCH 4 - PROGRESS: at 49.66% examples, 1047456 words/s, in_qsize 8, out_qsize 0\n",
      "2019-12-04 18:18:08,460 : INFO : EPOCH 4 - PROGRESS: at 57.90% examples, 1048335 words/s, in_qsize 8, out_qsize 0\n",
      "2019-12-04 18:18:09,465 : INFO : EPOCH 4 - PROGRESS: at 66.06% examples, 1047633 words/s, in_qsize 7, out_qsize 0\n",
      "2019-12-04 18:18:10,469 : INFO : EPOCH 4 - PROGRESS: at 74.28% examples, 1047105 words/s, in_qsize 7, out_qsize 0\n",
      "2019-12-04 18:18:11,471 : INFO : EPOCH 4 - PROGRESS: at 82.56% examples, 1047323 words/s, in_qsize 8, out_qsize 0\n"
     ]
    },
    {
     "name": "stderr",
     "output_type": "stream",
     "text": [
      "2019-12-04 18:18:12,471 : INFO : EPOCH 4 - PROGRESS: at 90.82% examples, 1048322 words/s, in_qsize 7, out_qsize 0\n",
      "2019-12-04 18:18:13,479 : INFO : EPOCH 4 - PROGRESS: at 99.05% examples, 1047940 words/s, in_qsize 7, out_qsize 0\n",
      "2019-12-04 18:18:13,570 : INFO : worker thread finished; awaiting finish of 3 more threads\n",
      "2019-12-04 18:18:13,578 : INFO : worker thread finished; awaiting finish of 2 more threads\n",
      "2019-12-04 18:18:13,586 : INFO : worker thread finished; awaiting finish of 1 more threads\n",
      "2019-12-04 18:18:13,589 : INFO : worker thread finished; awaiting finish of 0 more threads\n",
      "2019-12-04 18:18:13,590 : INFO : EPOCH - 4 : training on 17798082 raw words (12749873 effective words) took 12.2s, 1048323 effective words/s\n",
      "2019-12-04 18:18:14,596 : INFO : EPOCH 5 - PROGRESS: at 8.16% examples, 1034613 words/s, in_qsize 8, out_qsize 0\n",
      "2019-12-04 18:18:15,606 : INFO : EPOCH 5 - PROGRESS: at 16.44% examples, 1034485 words/s, in_qsize 7, out_qsize 0\n",
      "2019-12-04 18:18:16,614 : INFO : EPOCH 5 - PROGRESS: at 24.88% examples, 1044049 words/s, in_qsize 8, out_qsize 0\n",
      "2019-12-04 18:18:17,617 : INFO : EPOCH 5 - PROGRESS: at 33.32% examples, 1048256 words/s, in_qsize 8, out_qsize 0\n",
      "2019-12-04 18:18:18,622 : INFO : EPOCH 5 - PROGRESS: at 41.65% examples, 1050675 words/s, in_qsize 8, out_qsize 0\n",
      "2019-12-04 18:18:19,628 : INFO : EPOCH 5 - PROGRESS: at 49.99% examples, 1053242 words/s, in_qsize 8, out_qsize 0\n",
      "2019-12-04 18:18:20,629 : INFO : EPOCH 5 - PROGRESS: at 58.24% examples, 1053729 words/s, in_qsize 8, out_qsize 0\n",
      "2019-12-04 18:18:21,636 : INFO : EPOCH 5 - PROGRESS: at 66.63% examples, 1055259 words/s, in_qsize 7, out_qsize 0\n",
      "2019-12-04 18:18:22,637 : INFO : EPOCH 5 - PROGRESS: at 75.02% examples, 1057035 words/s, in_qsize 7, out_qsize 0\n",
      "2019-12-04 18:18:23,648 : INFO : EPOCH 5 - PROGRESS: at 82.44% examples, 1044640 words/s, in_qsize 7, out_qsize 1\n",
      "2019-12-04 18:18:24,658 : INFO : EPOCH 5 - PROGRESS: at 89.74% examples, 1034722 words/s, in_qsize 7, out_qsize 0\n",
      "2019-12-04 18:18:25,656 : INFO : EPOCH 5 - PROGRESS: at 96.36% examples, 1017755 words/s, in_qsize 8, out_qsize 0\n",
      "2019-12-04 18:18:26,105 : INFO : worker thread finished; awaiting finish of 3 more threads\n",
      "2019-12-04 18:18:26,112 : INFO : worker thread finished; awaiting finish of 2 more threads\n",
      "2019-12-04 18:18:26,118 : INFO : worker thread finished; awaiting finish of 1 more threads\n",
      "2019-12-04 18:18:26,122 : INFO : worker thread finished; awaiting finish of 0 more threads\n",
      "2019-12-04 18:18:26,123 : INFO : EPOCH - 5 : training on 17798082 raw words (12748291 effective words) took 12.5s, 1017404 effective words/s\n",
      "2019-12-04 18:18:26,125 : INFO : training on a 88990410 raw words (63746000 effective words) took 61.4s, 1037670 effective words/s\n"
     ]
    }
   ],
   "source": [
    "# Set values for various parameters\n",
    "num_features = 300    # Word vector dimensionality                      \n",
    "min_word_count = 40   # Minimum word count                        \n",
    "num_workers = 4       # Number of threads to run in parallel\n",
    "context = 10          # Context window size                                                                                    \n",
    "downsampling = 1e-3   # Downsample setting for frequent words\n",
    "\n",
    "print (\"Training model...\")\n",
    "model = word2vec.Word2Vec(sentences, workers=num_workers, \\\n",
    "            size=num_features, min_count = min_word_count, \\\n",
    "            window = context, sample = downsampling)\n"
   ]
  },
  {
   "cell_type": "code",
   "execution_count": 34,
   "metadata": {},
   "outputs": [
    {
     "name": "stderr",
     "output_type": "stream",
     "text": [
      "2019-12-04 18:18:26,140 : INFO : precomputing L2-norms of word weight vectors\n",
      "2019-12-04 18:18:26,197 : INFO : saving Word2Vec object under /Users/loliveira/Documents/mygit/kaggle-bag-of-words-popcorn/models/300features_40minwords_10context, separately None\n",
      "2019-12-04 18:18:26,199 : INFO : not storing attribute vectors_norm\n",
      "2019-12-04 18:18:26,201 : INFO : not storing attribute cum_table\n",
      "2019-12-04 18:18:26,552 : INFO : saved /Users/loliveira/Documents/mygit/kaggle-bag-of-words-popcorn/models/300features_40minwords_10context\n"
     ]
    }
   ],
   "source": [
    "# If you don't plan to train the model any further, calling \n",
    "# init_sims will make the model much more memory-efficient.\n",
    "model.init_sims(replace=True)\n",
    "\n",
    "# It can be helpful to create a meaningful model name and \n",
    "# save the model for later use. You can load it later using Word2Vec.load()\n",
    "path_raw = os.getcwd().replace('notebooks', 'models/')\n",
    "model_name = path_raw + \"300features_40minwords_10context\"\n",
    "model.save(model_name)"
   ]
  },
  {
   "cell_type": "code",
   "execution_count": 35,
   "metadata": {},
   "outputs": [
    {
     "name": "stderr",
     "output_type": "stream",
     "text": [
      "/Users/loliveira/miniconda3/envs/kaggle/lib/python2.7/site-packages/ipykernel_launcher.py:2: DeprecationWarning: Call to deprecated `doesnt_match` (Method will be removed in 4.0.0, use self.wv.doesnt_match() instead).\n",
      "  \n",
      "/Users/loliveira/miniconda3/envs/kaggle/lib/python2.7/site-packages/gensim/models/keyedvectors.py:877: FutureWarning: arrays to stack must be passed as a \"sequence\" type such as list or tuple. Support for non-sequence iterables such as generators is deprecated as of NumPy 1.16 and will raise an error in the future.\n",
      "  vectors = vstack(self.word_vec(word, use_norm=True) for word in used_words).astype(REAL)\n"
     ]
    },
    {
     "data": {
      "text/plain": [
       "'berlin'"
      ]
     },
     "execution_count": 35,
     "metadata": {},
     "output_type": "execute_result"
    }
   ],
   "source": [
    "#The \"doesnt_match\" function will try to deduce which word in a set is most dissimilar from the other\n",
    "model.doesnt_match(\"france england germany berlin\".split())"
   ]
  },
  {
   "cell_type": "code",
   "execution_count": 36,
   "metadata": {},
   "outputs": [
    {
     "name": "stderr",
     "output_type": "stream",
     "text": [
      "/Users/loliveira/miniconda3/envs/kaggle/lib/python2.7/site-packages/ipykernel_launcher.py:1: DeprecationWarning: Call to deprecated `most_similar` (Method will be removed in 4.0.0, use self.wv.most_similar() instead).\n",
      "  \"\"\"Entry point for launching an IPython kernel.\n"
     ]
    },
    {
     "data": {
      "text/plain": [
       "[(u'woman', 0.6253253221511841),\n",
       " (u'lady', 0.6056747436523438),\n",
       " (u'lad', 0.5889188051223755),\n",
       " (u'monk', 0.5321874022483826),\n",
       " (u'men', 0.5245215892791748),\n",
       " (u'farmer', 0.5239187479019165),\n",
       " (u'businessman', 0.5186100602149963),\n",
       " (u'guy', 0.5137829780578613),\n",
       " (u'person', 0.5133359432220459),\n",
       " (u'millionaire', 0.5105389356613159)]"
      ]
     },
     "execution_count": 36,
     "metadata": {},
     "output_type": "execute_result"
    }
   ],
   "source": [
    "model.most_similar(\"man\")"
   ]
  },
  {
   "cell_type": "code",
   "execution_count": 37,
   "metadata": {},
   "outputs": [
    {
     "name": "stderr",
     "output_type": "stream",
     "text": [
      "/Users/loliveira/miniconda3/envs/kaggle/lib/python2.7/site-packages/ipykernel_launcher.py:1: DeprecationWarning: Call to deprecated `most_similar` (Method will be removed in 4.0.0, use self.wv.most_similar() instead).\n",
      "  \"\"\"Entry point for launching an IPython kernel.\n"
     ]
    },
    {
     "data": {
      "text/plain": [
       "[(u'terrible', 0.7638652324676514),\n",
       " (u'atrocious', 0.7386058568954468),\n",
       " (u'horrible', 0.727492094039917),\n",
       " (u'abysmal', 0.7152676582336426),\n",
       " (u'dreadful', 0.7033779621124268),\n",
       " (u'horrid', 0.6975457072257996),\n",
       " (u'appalling', 0.6716896295547485),\n",
       " (u'horrendous', 0.6714738607406616),\n",
       " (u'lousy', 0.6360851526260376),\n",
       " (u'amateurish', 0.6360642910003662)]"
      ]
     },
     "execution_count": 37,
     "metadata": {},
     "output_type": "execute_result"
    }
   ],
   "source": [
    "model.most_similar(\"awful\")"
   ]
  },
  {
   "cell_type": "code",
   "execution_count": 38,
   "metadata": {},
   "outputs": [
    {
     "name": "stderr",
     "output_type": "stream",
     "text": [
      "2019-12-04 18:18:26,641 : INFO : loading Word2Vec object from /Users/loliveira/Documents/mygit/kaggle-bag-of-words-popcorn/models/300features_40minwords_10context\n",
      "2019-12-04 18:18:26,755 : INFO : loading vocabulary recursively from /Users/loliveira/Documents/mygit/kaggle-bag-of-words-popcorn/models/300features_40minwords_10context.vocabulary.* with mmap=None\n",
      "2019-12-04 18:18:26,756 : INFO : loading wv recursively from /Users/loliveira/Documents/mygit/kaggle-bag-of-words-popcorn/models/300features_40minwords_10context.wv.* with mmap=None\n",
      "2019-12-04 18:18:26,758 : INFO : setting ignored attribute vectors_norm to None\n",
      "2019-12-04 18:18:26,759 : INFO : loading trainables recursively from /Users/loliveira/Documents/mygit/kaggle-bag-of-words-popcorn/models/300features_40minwords_10context.trainables.* with mmap=None\n",
      "2019-12-04 18:18:26,761 : INFO : setting ignored attribute cum_table to None\n",
      "2019-12-04 18:18:26,762 : INFO : loaded /Users/loliveira/Documents/mygit/kaggle-bag-of-words-popcorn/models/300features_40minwords_10context\n"
     ]
    }
   ],
   "source": [
    "from gensim.models import Word2Vec\n",
    "model = Word2Vec.load(path_raw + \"300features_40minwords_10context\")"
   ]
  },
  {
   "cell_type": "code",
   "execution_count": 39,
   "metadata": {},
   "outputs": [
    {
     "name": "stderr",
     "output_type": "stream",
     "text": [
      "/Users/loliveira/miniconda3/envs/kaggle/lib/python2.7/site-packages/ipykernel_launcher.py:1: DeprecationWarning: Call to deprecated `cum_table` (Attribute will be removed in 4.0.0, use self.vocabulary.cum_table instead).\n",
      "  \"\"\"Entry point for launching an IPython kernel.\n"
     ]
    },
    {
     "data": {
      "text/plain": [
       "numpy.ndarray"
      ]
     },
     "execution_count": 39,
     "metadata": {},
     "output_type": "execute_result"
    }
   ],
   "source": [
    "type(model.cum_table)\n"
   ]
  },
  {
   "cell_type": "code",
   "execution_count": 40,
   "metadata": {},
   "outputs": [
    {
     "name": "stderr",
     "output_type": "stream",
     "text": [
      "/Users/loliveira/miniconda3/envs/kaggle/lib/python2.7/site-packages/ipykernel_launcher.py:1: DeprecationWarning: Call to deprecated `__getitem__` (Method will be removed in 4.0.0, use self.wv.__getitem__() instead).\n",
      "  \"\"\"Entry point for launching an IPython kernel.\n"
     ]
    },
    {
     "data": {
      "text/plain": [
       "array([ 0.00345678, -0.06302812, -0.13045566,  0.07635592,  0.02630942,\n",
       "        0.02476116,  0.11651225,  0.01561824,  0.05033286,  0.05265347,\n",
       "       -0.09409257, -0.14666888,  0.01195963,  0.12423845, -0.05012137,\n",
       "       -0.00841881,  0.03761879,  0.01233195, -0.03428629, -0.13225643,\n",
       "       -0.09181557, -0.03417945,  0.11022355,  0.04555974, -0.02662971,\n",
       "       -0.00642254,  0.00089743, -0.03614795,  0.00335321, -0.00587334,\n",
       "        0.02567563,  0.0125669 , -0.03779757,  0.00347613, -0.06679216,\n",
       "        0.01590004,  0.07708862,  0.00176816,  0.0426693 ,  0.00399242,\n",
       "       -0.01441719,  0.09620564, -0.02127444, -0.04582051,  0.03190284,\n",
       "       -0.04550701, -0.0604981 , -0.01059696, -0.08915752,  0.13426977,\n",
       "       -0.01754344,  0.06654104,  0.09395356, -0.0361356 , -0.05346743,\n",
       "        0.04667037,  0.03068818, -0.02520963, -0.11137424,  0.0090273 ,\n",
       "       -0.13961083,  0.00589716,  0.0513806 , -0.0604302 , -0.03605963,\n",
       "        0.06707609, -0.06565899,  0.02196912,  0.1239398 , -0.02256166,\n",
       "       -0.0930505 ,  0.08661165,  0.03948047, -0.06218626,  0.03060647,\n",
       "       -0.0976042 ,  0.0055912 ,  0.02882743, -0.02536686,  0.08017249,\n",
       "        0.01212597, -0.01576778,  0.0058936 , -0.07857967, -0.01288215,\n",
       "        0.00277884,  0.01749548, -0.02763294,  0.07624   , -0.01186612,\n",
       "       -0.06388333,  0.03003806,  0.01603318, -0.01561217, -0.01580073,\n",
       "       -0.02634596,  0.05453898, -0.02822737, -0.03994513, -0.03962871,\n",
       "       -0.00935469, -0.00049522,  0.07890473, -0.09213716, -0.01452747,\n",
       "       -0.06563241,  0.00508064,  0.02787537, -0.08444695, -0.17089479,\n",
       "        0.00098578,  0.05979709,  0.06631327,  0.0318756 ,  0.05637013,\n",
       "       -0.08802253,  0.09634875, -0.02299642,  0.12093548,  0.08022126,\n",
       "       -0.04032363, -0.10160924, -0.04288129,  0.02320347,  0.04635714,\n",
       "       -0.02052236, -0.10142834,  0.03880358, -0.00633918, -0.05639366,\n",
       "       -0.01727768,  0.04061151, -0.03791326, -0.06312091, -0.02201239,\n",
       "        0.06572393, -0.054678  , -0.00579852, -0.01732833,  0.06692763,\n",
       "       -0.06077119, -0.01241826,  0.01776167, -0.03364244,  0.10923905,\n",
       "        0.00487886, -0.02904164,  0.07313434, -0.03871498,  0.05323215,\n",
       "       -0.0458984 ,  0.05402733,  0.10183217,  0.00420187, -0.01833368,\n",
       "        0.07906326, -0.05395983,  0.06548705,  0.0773305 ,  0.03344601,\n",
       "       -0.00442627,  0.04292022,  0.05395138, -0.05836401,  0.00191016,\n",
       "       -0.01144359, -0.05324417,  0.10351836,  0.05790989,  0.11890987,\n",
       "       -0.02793814, -0.07369424, -0.04963375, -0.05567291,  0.07178989,\n",
       "       -0.00844457, -0.03392649, -0.02449792,  0.05149831, -0.03386751,\n",
       "        0.04592934, -0.01062573, -0.03382708, -0.06020458, -0.01565909,\n",
       "        0.00660591, -0.0096758 , -0.08397542, -0.00742271, -0.04025644,\n",
       "       -0.00192695, -0.04788026,  0.07117795,  0.09689306,  0.03735053,\n",
       "        0.0343444 , -0.05023569,  0.12353354, -0.01659893, -0.07543306,\n",
       "        0.04431821,  0.0491233 , -0.06299385, -0.01877124,  0.07059087,\n",
       "       -0.03489573, -0.02736122, -0.01319967,  0.02498226,  0.09527314,\n",
       "       -0.00271827, -0.03912753,  0.00266924,  0.00646825, -0.0036761 ,\n",
       "       -0.01355798,  0.09761098,  0.04584254,  0.04213269, -0.00131446,\n",
       "       -0.00039115,  0.00969243,  0.00791402,  0.02035622,  0.02779098,\n",
       "       -0.03332773,  0.0033696 , -0.05494398,  0.0641204 , -0.07648198,\n",
       "       -0.06901293,  0.01571105,  0.07107447, -0.13677081,  0.06491288,\n",
       "       -0.02526808, -0.05128518, -0.07168965,  0.08399311, -0.03024849,\n",
       "        0.01911038,  0.08489156, -0.02310355,  0.09130411, -0.01380202,\n",
       "       -0.05893195,  0.0231755 ,  0.04774974,  0.09286287, -0.03723795,\n",
       "        0.05505575, -0.14145918, -0.03028639,  0.03108228, -0.01538904,\n",
       "        0.07113169, -0.00501448, -0.01055043,  0.01229863,  0.02556861,\n",
       "        0.04371439,  0.06118461, -0.02640325,  0.03120977,  0.00685678,\n",
       "        0.01970901,  0.05119887,  0.02030502,  0.08356847,  0.06016364,\n",
       "       -0.04342816, -0.00984345, -0.07106669,  0.06466116, -0.03848329,\n",
       "        0.02703334,  0.03236742, -0.02747488,  0.01001202,  0.04422224,\n",
       "       -0.05149053,  0.08180907,  0.14162566, -0.01116796, -0.07821341,\n",
       "        0.08193633, -0.08914161, -0.11073609,  0.00866155,  0.00065869,\n",
       "        0.02695523, -0.00211602, -0.04111935, -0.06990999, -0.0466783 ,\n",
       "        0.04370796, -0.03079083,  0.02269397,  0.04343636,  0.12271218],\n",
       "      dtype=float32)"
      ]
     },
     "execution_count": 40,
     "metadata": {},
     "output_type": "execute_result"
    }
   ],
   "source": [
    "model[\"flower\"]"
   ]
  },
  {
   "cell_type": "markdown",
   "metadata": {},
   "source": [
    "### One challenge with the IMDB dataset is the variable-length reviews. We need to find a way to take individual word vectors and transform them into a feature set that is the same length for every review."
   ]
  },
  {
   "cell_type": "code",
   "execution_count": 41,
   "metadata": {},
   "outputs": [],
   "source": [
    "import numpy as np  # Make sure that numpy is imported\n",
    "\n",
    "def makeFeatureVec(words, model, num_features):\n",
    "    # Function to average all of the word vectors in a given\n",
    "    # paragraph\n",
    "    #\n",
    "    # Pre-initialize an empty numpy array (for speed)\n",
    "    featureVec = np.zeros((num_features,),dtype=\"float32\")\n",
    "    #\n",
    "    nwords = 0.\n",
    "    # \n",
    "    # Index2word is a list that contains the names of the words in \n",
    "    # the model's vocabulary. Convert it to a set, for speed \n",
    "    index2word_set = set(model.index2word)\n",
    "    #\n",
    "    # Loop over each word in the review and, if it is in the model's\n",
    "    # vocaublary, add its feature vector to the total\n",
    "    for word in words:\n",
    "        if word in index2word_set: \n",
    "            nwords = nwords + 1.\n",
    "            featureVec = np.add(featureVec,model[word])\n",
    "    # \n",
    "    # Divide the result by the number of words to get the average\n",
    "    featureVec = np.divide(featureVec,nwords)\n",
    "    return featureVec\n",
    "\n",
    "\n",
    "def getAvgFeatureVecs(reviews, model, num_features):\n",
    "    # Given a set of reviews (each one a list of words), calculate \n",
    "    # the average feature vector for each one and return a 2D numpy array \n",
    "    # \n",
    "    # Initialize a counter\n",
    "    counter = 0.\n",
    "    # \n",
    "    # Preallocate a 2D numpy array, for speed\n",
    "    reviewFeatureVecs = np.zeros((len(reviews),num_features),dtype=\"float32\")\n",
    "    # \n",
    "    # Loop through the reviews\n",
    "    for review in reviews:\n",
    "       #\n",
    "       # Print a status message every 1000th review\n",
    "       if counter%1000. == 0.:\n",
    "           print \"Review %d of %d\" % (counter, len(reviews))\n",
    "       # \n",
    "       # Call the function (defined above) that makes average feature vectors\n",
    "       reviewFeatureVecs[counter] = makeFeatureVec(review, model, \\\n",
    "           num_features)\n",
    "       #\n",
    "       # Increment the counter\n",
    "       counter = counter + 1.\n",
    "    return reviewFeatureVecs\n"
   ]
  },
  {
   "cell_type": "code",
   "execution_count": null,
   "metadata": {},
   "outputs": [],
   "source": []
  }
 ],
 "metadata": {
  "kernelspec": {
   "display_name": "Python 2",
   "language": "python",
   "name": "python2"
  },
  "language_info": {
   "codemirror_mode": {
    "name": "ipython",
    "version": 2
   },
   "file_extension": ".py",
   "mimetype": "text/x-python",
   "name": "python",
   "nbconvert_exporter": "python",
   "pygments_lexer": "ipython2",
   "version": "2.7.16"
  }
 },
 "nbformat": 4,
 "nbformat_minor": 2
}

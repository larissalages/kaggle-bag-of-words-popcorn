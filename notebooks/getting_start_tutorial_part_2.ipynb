{
 "cells": [
  {
   "cell_type": "code",
   "execution_count": 28,
   "metadata": {},
   "outputs": [
    {
     "name": "stdout",
     "output_type": "stream",
     "text": [
      "showing info https://raw.githubusercontent.com/nltk/nltk_data/gh-pages/index.xml\n"
     ]
    }
   ],
   "source": [
    "import pandas as pd\n",
    "import os\n",
    "from bs4 import BeautifulSoup\n",
    "import re\n",
    "import nltk.data\n",
    "nltk.download()\n",
    "from nltk.corpus import stopwords\n",
    "from gensim.models import word2vec\n",
    "# Import the built-in logging module and configure it so that Word2Vec \n",
    "# creates nice output messages\n",
    "import logging\n",
    "logging.basicConfig(format='%(asctime)s : %(levelname)s : %(message)s',\\\n",
    "    level=logging.INFO)"
   ]
  },
  {
   "cell_type": "code",
   "execution_count": 2,
   "metadata": {},
   "outputs": [],
   "source": [
    "# Read data from files \n",
    "path_raw = os.getcwd().replace('notebooks', 'data/raw/')\n",
    "\n",
    "train = pd.read_csv(path_raw + \"labeledTrainData.tsv\", header=0, \n",
    " delimiter=\"\\t\", quoting=3 )\n",
    "\n",
    "test = pd.read_csv(path_raw + \"testData.tsv\", header=0, delimiter=\"\\t\", quoting=3 )\n",
    "\n",
    "unlabeled_train = pd.read_csv(path_raw + \"unlabeledTrainData.tsv\", header=0, \n",
    " delimiter=\"\\t\", quoting=3 )"
   ]
  },
  {
   "cell_type": "code",
   "execution_count": 3,
   "metadata": {},
   "outputs": [
    {
     "name": "stdout",
     "output_type": "stream",
     "text": [
      "Read 25000 labeled train reviews, 25000 labeled test reviews, and 50000 unlabeled reviews\n",
      "\n"
     ]
    }
   ],
   "source": [
    "# Verify the number of reviews that were read (100,000 in total)\n",
    "print(\"Read %d labeled train reviews, %d labeled test reviews, and %d unlabeled reviews\\n\" % (train[\"review\"].size,  \n",
    "test[\"review\"].size, unlabeled_train[\"review\"].size ))"
   ]
  },
  {
   "cell_type": "code",
   "execution_count": 4,
   "metadata": {},
   "outputs": [],
   "source": [
    "def review_to_wordlist( review, remove_stopwords=False ):\n",
    "    # Function to convert a document to a sequence of words,\n",
    "    # optionally removing stop words.  Returns a list of words.\n",
    "    #\n",
    "    # 1. Remove HTML\n",
    "    review_text = BeautifulSoup(review).get_text()\n",
    "    #  \n",
    "    # 2. Remove non-letters\n",
    "    review_text = re.sub(\"[^a-zA-Z]\",\" \", review_text)\n",
    "    #\n",
    "    # 3. Convert words to lower case and split them\n",
    "    words = review_text.lower().split()\n",
    "    #\n",
    "    # 4. Optionally remove stop words (false by default)\n",
    "    if remove_stopwords:\n",
    "        stops = set(stopwords.words(\"english\"))\n",
    "        words = [w for w in words if not w in stops]\n",
    "    #\n",
    "    # 5. Return a list of words\n",
    "    return(words)"
   ]
  },
  {
   "cell_type": "code",
   "execution_count": 5,
   "metadata": {},
   "outputs": [],
   "source": [
    "# for sentence splitting\n",
    "tokenizer = nltk.data.load('tokenizers/punkt/english.pickle')"
   ]
  },
  {
   "cell_type": "code",
   "execution_count": 24,
   "metadata": {},
   "outputs": [],
   "source": [
    "raw_sentences = tokenizer.tokenize(train[\"review\"][0].strip())"
   ]
  },
  {
   "cell_type": "code",
   "execution_count": 25,
   "metadata": {},
   "outputs": [
    {
     "name": "stdout",
     "output_type": "stream",
     "text": [
      "\"With all this stuff going down at the moment with MJ i've started listening to his music, watching the odd documentary here and there, watched The Wiz and watched Moonwalker again.\n",
      "Maybe i just want to get a certain insight into this guy who i thought was really cool in the eighties just to maybe make up my mind whether he is guilty or innocent.\n",
      "Moonwalker is part biography, part feature film which i remember going to see at the cinema when it was originally released.\n"
     ]
    }
   ],
   "source": [
    "print(raw_sentences[0])\n",
    "print(raw_sentences[1])\n",
    "print(raw_sentences[2])"
   ]
  },
  {
   "cell_type": "code",
   "execution_count": 12,
   "metadata": {},
   "outputs": [],
   "source": [
    "# Define a function to split a review into parsed sentences\n",
    "def review_to_sentences( review, tokenizer, remove_stopwords=False ):\n",
    "    # Function to split a review into parsed sentences. Returns a \n",
    "    # list of sentences, where each sentence is a list of words\n",
    "    #\n",
    "    # 1. Use the NLTK tokenizer to split the paragraph into sentences\n",
    "    raw_sentences = tokenizer.tokenize(review.strip())\n",
    "    #\n",
    "    # 2. Loop over each sentence\n",
    "    sentences = []\n",
    "    for raw_sentence in raw_sentences:\n",
    "        # If a sentence is empty, skip it\n",
    "        if len(raw_sentence) > 0:\n",
    "            # Otherwise, call review_to_wordlist to get a list of words\n",
    "            sentences.append( review_to_wordlist( raw_sentence, \\\n",
    "              remove_stopwords ))\n",
    "    #\n",
    "    # Return the list of sentences (each sentence is a list of words,\n",
    "    # so this returns a list of lists\n",
    "    return sentences"
   ]
  },
  {
   "cell_type": "code",
   "execution_count": 13,
   "metadata": {},
   "outputs": [
    {
     "name": "stdout",
     "output_type": "stream",
     "text": [
      "Parsing sentences from training set\n"
     ]
    },
    {
     "name": "stderr",
     "output_type": "stream",
     "text": [
      "/home/larissa/miniconda3/envs/kaggle/lib/python3.7/site-packages/bs4/__init__.py:302: UserWarning: \"b'.'\" looks like a filename, not markup. You should probably open this file and pass the filehandle into Beautiful Soup.\n",
      "  ' Beautiful Soup.' % markup)\n",
      "/home/larissa/miniconda3/envs/kaggle/lib/python3.7/site-packages/bs4/__init__.py:375: UserWarning: \"http://www.happierabroad.com\"\" looks like a URL. Beautiful Soup is not an HTTP client. You should probably use an HTTP client like requests to get the document behind the URL, and feed that document to Beautiful Soup.\n",
      "  ' that document to Beautiful Soup.' % decoded_markup\n"
     ]
    },
    {
     "name": "stdout",
     "output_type": "stream",
     "text": [
      "Parsing sentences from unlabeled set\n"
     ]
    },
    {
     "name": "stderr",
     "output_type": "stream",
     "text": [
      "/home/larissa/miniconda3/envs/kaggle/lib/python3.7/site-packages/bs4/__init__.py:375: UserWarning: \"http://www.archive.org/details/LovefromaStranger\"\" looks like a URL. Beautiful Soup is not an HTTP client. You should probably use an HTTP client like requests to get the document behind the URL, and feed that document to Beautiful Soup.\n",
      "  ' that document to Beautiful Soup.' % decoded_markup\n",
      "/home/larissa/miniconda3/envs/kaggle/lib/python3.7/site-packages/bs4/__init__.py:375: UserWarning: \"http://www.loosechangeguide.com/LooseChangeGuide.html\"\" looks like a URL. Beautiful Soup is not an HTTP client. You should probably use an HTTP client like requests to get the document behind the URL, and feed that document to Beautiful Soup.\n",
      "  ' that document to Beautiful Soup.' % decoded_markup\n",
      "/home/larissa/miniconda3/envs/kaggle/lib/python3.7/site-packages/bs4/__init__.py:375: UserWarning: \"http://www.msnbc.msn.com/id/4972055/site/newsweek/\"\" looks like a URL. Beautiful Soup is not an HTTP client. You should probably use an HTTP client like requests to get the document behind the URL, and feed that document to Beautiful Soup.\n",
      "  ' that document to Beautiful Soup.' % decoded_markup\n",
      "/home/larissa/miniconda3/envs/kaggle/lib/python3.7/site-packages/bs4/__init__.py:302: UserWarning: \"b'..'\" looks like a filename, not markup. You should probably open this file and pass the filehandle into Beautiful Soup.\n",
      "  ' Beautiful Soup.' % markup)\n",
      "/home/larissa/miniconda3/envs/kaggle/lib/python3.7/site-packages/bs4/__init__.py:375: UserWarning: \"http://www.youtube.com/watch?v=a0KSqelmgN8\"\" looks like a URL. Beautiful Soup is not an HTTP client. You should probably use an HTTP client like requests to get the document behind the URL, and feed that document to Beautiful Soup.\n",
      "  ' that document to Beautiful Soup.' % decoded_markup\n",
      "/home/larissa/miniconda3/envs/kaggle/lib/python3.7/site-packages/bs4/__init__.py:375: UserWarning: \"http://jake-weird.blogspot.com/2007/08/beneath.html\"\" looks like a URL. Beautiful Soup is not an HTTP client. You should probably use an HTTP client like requests to get the document behind the URL, and feed that document to Beautiful Soup.\n",
      "  ' that document to Beautiful Soup.' % decoded_markup\n"
     ]
    }
   ],
   "source": [
    "sentences = []  # Initialize an empty list of sentences\n",
    "\n",
    "print (\"Parsing sentences from training set\")\n",
    "for review in train[\"review\"]:\n",
    "    sentences += review_to_sentences(review, tokenizer)\n",
    "\n",
    "print (\"Parsing sentences from unlabeled set\")\n",
    "for review in unlabeled_train[\"review\"]:\n",
    "    sentences += review_to_sentences(review, tokenizer)"
   ]
  },
  {
   "cell_type": "code",
   "execution_count": 23,
   "metadata": {},
   "outputs": [
    {
     "name": "stdout",
     "output_type": "stream",
     "text": [
      "Number os setences\n",
      "795538\n",
      "First setence\n",
      "['with', 'all', 'this', 'stuff', 'going', 'down', 'at', 'the', 'moment', 'with', 'mj', 'i', 've', 'started', 'listening', 'to', 'his', 'music', 'watching', 'the', 'odd', 'documentary', 'here', 'and', 'there', 'watched', 'the', 'wiz', 'and', 'watched', 'moonwalker', 'again']\n",
      "Second setence\n",
      "['maybe', 'i', 'just', 'want', 'to', 'get', 'a', 'certain', 'insight', 'into', 'this', 'guy', 'who', 'i', 'thought', 'was', 'really', 'cool', 'in', 'the', 'eighties', 'just', 'to', 'maybe', 'make', 'up', 'my', 'mind', 'whether', 'he', 'is', 'guilty', 'or', 'innocent']\n"
     ]
    }
   ],
   "source": [
    "print(\"Number os setences\")\n",
    "print(len(sentences))\n",
    "print(\"First setence\")\n",
    "print(sentences[0])\n",
    "print(\"Second setence\")\n",
    "print(sentences[1])"
   ]
  },
  {
   "cell_type": "markdown",
   "metadata": {},
   "source": [
    "### Word2Vec"
   ]
  },
  {
   "cell_type": "code",
   "execution_count": 29,
   "metadata": {},
   "outputs": [
    {
     "name": "stderr",
     "output_type": "stream",
     "text": [
      "2019-11-12 23:18:59,534 : INFO : collecting all words and their counts\n",
      "2019-11-12 23:18:59,535 : INFO : PROGRESS: at sentence #0, processed 0 words, keeping 0 word types\n",
      "2019-11-12 23:18:59,637 : INFO : PROGRESS: at sentence #10000, processed 225803 words, keeping 17776 word types\n",
      "2019-11-12 23:18:59,704 : INFO : PROGRESS: at sentence #20000, processed 451892 words, keeping 24948 word types\n"
     ]
    },
    {
     "name": "stdout",
     "output_type": "stream",
     "text": [
      "Training model...\n"
     ]
    },
    {
     "name": "stderr",
     "output_type": "stream",
     "text": [
      "2019-11-12 23:18:59,781 : INFO : PROGRESS: at sentence #30000, processed 671314 words, keeping 30034 word types\n",
      "2019-11-12 23:18:59,866 : INFO : PROGRESS: at sentence #40000, processed 897814 words, keeping 34348 word types\n",
      "2019-11-12 23:18:59,933 : INFO : PROGRESS: at sentence #50000, processed 1116962 words, keeping 37761 word types\n",
      "2019-11-12 23:18:59,993 : INFO : PROGRESS: at sentence #60000, processed 1338403 words, keeping 40723 word types\n",
      "2019-11-12 23:19:00,066 : INFO : PROGRESS: at sentence #70000, processed 1561579 words, keeping 43333 word types\n",
      "2019-11-12 23:19:00,139 : INFO : PROGRESS: at sentence #80000, processed 1780886 words, keeping 45714 word types\n",
      "2019-11-12 23:19:00,213 : INFO : PROGRESS: at sentence #90000, processed 2004995 words, keeping 48135 word types\n",
      "2019-11-12 23:19:00,286 : INFO : PROGRESS: at sentence #100000, processed 2226966 words, keeping 50207 word types\n",
      "2019-11-12 23:19:00,354 : INFO : PROGRESS: at sentence #110000, processed 2446580 words, keeping 52081 word types\n",
      "2019-11-12 23:19:00,430 : INFO : PROGRESS: at sentence #120000, processed 2668775 words, keeping 54119 word types\n",
      "2019-11-12 23:19:00,510 : INFO : PROGRESS: at sentence #130000, processed 2894303 words, keeping 55847 word types\n",
      "2019-11-12 23:19:00,582 : INFO : PROGRESS: at sentence #140000, processed 3107005 words, keeping 57346 word types\n",
      "2019-11-12 23:19:00,654 : INFO : PROGRESS: at sentence #150000, processed 3332627 words, keeping 59055 word types\n",
      "2019-11-12 23:19:00,734 : INFO : PROGRESS: at sentence #160000, processed 3555315 words, keeping 60617 word types\n",
      "2019-11-12 23:19:00,819 : INFO : PROGRESS: at sentence #170000, processed 3778655 words, keeping 62077 word types\n",
      "2019-11-12 23:19:00,974 : INFO : PROGRESS: at sentence #180000, processed 3999236 words, keeping 63496 word types\n",
      "2019-11-12 23:19:01,080 : INFO : PROGRESS: at sentence #190000, processed 4224449 words, keeping 64794 word types\n",
      "2019-11-12 23:19:01,213 : INFO : PROGRESS: at sentence #200000, processed 4448603 words, keeping 66087 word types\n",
      "2019-11-12 23:19:01,289 : INFO : PROGRESS: at sentence #210000, processed 4669967 words, keeping 67390 word types\n",
      "2019-11-12 23:19:01,362 : INFO : PROGRESS: at sentence #220000, processed 4894968 words, keeping 68697 word types\n",
      "2019-11-12 23:19:01,435 : INFO : PROGRESS: at sentence #230000, processed 5117546 words, keeping 69958 word types\n",
      "2019-11-12 23:19:01,506 : INFO : PROGRESS: at sentence #240000, processed 5345051 words, keeping 71167 word types\n",
      "2019-11-12 23:19:01,573 : INFO : PROGRESS: at sentence #250000, processed 5559166 words, keeping 72351 word types\n",
      "2019-11-12 23:19:01,653 : INFO : PROGRESS: at sentence #260000, processed 5779147 words, keeping 73478 word types\n",
      "2019-11-12 23:19:01,726 : INFO : PROGRESS: at sentence #270000, processed 6000436 words, keeping 74767 word types\n",
      "2019-11-12 23:19:01,802 : INFO : PROGRESS: at sentence #280000, processed 6226315 words, keeping 76369 word types\n",
      "2019-11-12 23:19:01,947 : INFO : PROGRESS: at sentence #290000, processed 6449475 words, keeping 77839 word types\n",
      "2019-11-12 23:19:02,120 : INFO : PROGRESS: at sentence #300000, processed 6674078 words, keeping 79171 word types\n",
      "2019-11-12 23:19:02,230 : INFO : PROGRESS: at sentence #310000, processed 6899392 words, keeping 80480 word types\n",
      "2019-11-12 23:19:02,303 : INFO : PROGRESS: at sentence #320000, processed 7124279 words, keeping 81808 word types\n",
      "2019-11-12 23:19:02,370 : INFO : PROGRESS: at sentence #330000, processed 7346022 words, keeping 83030 word types\n",
      "2019-11-12 23:19:02,454 : INFO : PROGRESS: at sentence #340000, processed 7575534 words, keeping 84280 word types\n",
      "2019-11-12 23:19:02,531 : INFO : PROGRESS: at sentence #350000, processed 7798804 words, keeping 85425 word types\n",
      "2019-11-12 23:19:02,601 : INFO : PROGRESS: at sentence #360000, processed 8019467 words, keeping 86596 word types\n",
      "2019-11-12 23:19:02,687 : INFO : PROGRESS: at sentence #370000, processed 8246659 words, keeping 87708 word types\n",
      "2019-11-12 23:19:02,847 : INFO : PROGRESS: at sentence #380000, processed 8471806 words, keeping 88878 word types\n",
      "2019-11-12 23:19:03,043 : INFO : PROGRESS: at sentence #390000, processed 8701556 words, keeping 89907 word types\n",
      "2019-11-12 23:19:03,158 : INFO : PROGRESS: at sentence #400000, processed 8924505 words, keeping 90916 word types\n",
      "2019-11-12 23:19:03,233 : INFO : PROGRESS: at sentence #410000, processed 9145855 words, keeping 91880 word types\n",
      "2019-11-12 23:19:03,310 : INFO : PROGRESS: at sentence #420000, processed 9366935 words, keeping 92912 word types\n",
      "2019-11-12 23:19:03,468 : INFO : PROGRESS: at sentence #430000, processed 9594472 words, keeping 93932 word types\n",
      "2019-11-12 23:19:03,593 : INFO : PROGRESS: at sentence #440000, processed 9821225 words, keeping 94906 word types\n",
      "2019-11-12 23:19:03,669 : INFO : PROGRESS: at sentence #450000, processed 10044987 words, keeping 96036 word types\n",
      "2019-11-12 23:19:03,747 : INFO : PROGRESS: at sentence #460000, processed 10277747 words, keeping 97088 word types\n",
      "2019-11-12 23:19:03,825 : INFO : PROGRESS: at sentence #470000, processed 10505672 words, keeping 97933 word types\n",
      "2019-11-12 23:19:03,946 : INFO : PROGRESS: at sentence #480000, processed 10726056 words, keeping 98862 word types\n",
      "2019-11-12 23:19:04,027 : INFO : PROGRESS: at sentence #490000, processed 10952800 words, keeping 99871 word types\n",
      "2019-11-12 23:19:04,109 : INFO : PROGRESS: at sentence #500000, processed 11174456 words, keeping 100765 word types\n",
      "2019-11-12 23:19:04,218 : INFO : PROGRESS: at sentence #510000, processed 11399731 words, keeping 101699 word types\n",
      "2019-11-12 23:19:04,304 : INFO : PROGRESS: at sentence #520000, processed 11623082 words, keeping 102598 word types\n",
      "2019-11-12 23:19:04,379 : INFO : PROGRESS: at sentence #530000, processed 11847480 words, keeping 103400 word types\n",
      "2019-11-12 23:19:04,452 : INFO : PROGRESS: at sentence #540000, processed 12072095 words, keeping 104265 word types\n",
      "2019-11-12 23:19:04,524 : INFO : PROGRESS: at sentence #550000, processed 12297646 words, keeping 105133 word types\n",
      "2019-11-12 23:19:04,609 : INFO : PROGRESS: at sentence #560000, processed 12518936 words, keeping 105997 word types\n",
      "2019-11-12 23:19:04,699 : INFO : PROGRESS: at sentence #570000, processed 12748083 words, keeping 106787 word types\n",
      "2019-11-12 23:19:04,782 : INFO : PROGRESS: at sentence #580000, processed 12969579 words, keeping 107665 word types\n",
      "2019-11-12 23:19:04,868 : INFO : PROGRESS: at sentence #590000, processed 13195103 words, keeping 108502 word types\n",
      "2019-11-12 23:19:04,949 : INFO : PROGRESS: at sentence #600000, processed 13417301 words, keeping 109219 word types\n",
      "2019-11-12 23:19:05,032 : INFO : PROGRESS: at sentence #610000, processed 13638324 words, keeping 110093 word types\n",
      "2019-11-12 23:19:05,116 : INFO : PROGRESS: at sentence #620000, processed 13864649 words, keeping 110838 word types\n",
      "2019-11-12 23:19:05,193 : INFO : PROGRESS: at sentence #630000, processed 14088935 words, keeping 111611 word types\n",
      "2019-11-12 23:19:05,265 : INFO : PROGRESS: at sentence #640000, processed 14309718 words, keeping 112417 word types\n",
      "2019-11-12 23:19:05,342 : INFO : PROGRESS: at sentence #650000, processed 14535474 words, keeping 113197 word types\n",
      "2019-11-12 23:19:05,417 : INFO : PROGRESS: at sentence #660000, processed 14758264 words, keeping 113946 word types\n",
      "2019-11-12 23:19:05,498 : INFO : PROGRESS: at sentence #670000, processed 14981657 words, keeping 114644 word types\n",
      "2019-11-12 23:19:05,578 : INFO : PROGRESS: at sentence #680000, processed 15206489 words, keeping 115355 word types\n",
      "2019-11-12 23:19:05,650 : INFO : PROGRESS: at sentence #690000, processed 15428682 words, keeping 116132 word types\n",
      "2019-11-12 23:19:05,726 : INFO : PROGRESS: at sentence #700000, processed 15657388 words, keeping 116944 word types\n",
      "2019-11-12 23:19:05,801 : INFO : PROGRESS: at sentence #710000, processed 15880377 words, keeping 117597 word types\n",
      "2019-11-12 23:19:05,883 : INFO : PROGRESS: at sentence #720000, processed 16105664 words, keeping 118222 word types\n",
      "2019-11-12 23:19:05,958 : INFO : PROGRESS: at sentence #730000, processed 16332045 words, keeping 118955 word types\n",
      "2019-11-12 23:19:06,035 : INFO : PROGRESS: at sentence #740000, processed 16553078 words, keeping 119669 word types\n"
     ]
    },
    {
     "name": "stderr",
     "output_type": "stream",
     "text": [
      "2019-11-12 23:19:06,119 : INFO : PROGRESS: at sentence #750000, processed 16771405 words, keeping 120296 word types\n",
      "2019-11-12 23:19:06,199 : INFO : PROGRESS: at sentence #760000, processed 16990809 words, keeping 120931 word types\n",
      "2019-11-12 23:19:06,276 : INFO : PROGRESS: at sentence #770000, processed 17217946 words, keeping 121704 word types\n",
      "2019-11-12 23:19:06,365 : INFO : PROGRESS: at sentence #780000, processed 17448092 words, keeping 122403 word types\n",
      "2019-11-12 23:19:06,435 : INFO : PROGRESS: at sentence #790000, processed 17675168 words, keeping 123067 word types\n",
      "2019-11-12 23:19:06,478 : INFO : collected 123505 word types from a corpus of 17798269 raw words and 795538 sentences\n",
      "2019-11-12 23:19:06,479 : INFO : Loading a fresh vocabulary\n",
      "2019-11-12 23:19:06,573 : INFO : effective_min_count=40 retains 16490 unique words (13% of original 123505, drops 107015)\n",
      "2019-11-12 23:19:06,574 : INFO : effective_min_count=40 leaves 17239123 word corpus (96% of original 17798269, drops 559146)\n",
      "2019-11-12 23:19:06,646 : INFO : deleting the raw counts dictionary of 123505 items\n",
      "2019-11-12 23:19:06,651 : INFO : sample=0.001 downsamples 48 most-common words\n",
      "2019-11-12 23:19:06,651 : INFO : downsampling leaves estimated 12749797 word corpus (74.0% of prior 17239123)\n",
      "2019-11-12 23:19:06,735 : INFO : estimated required memory for 16490 words and 300 dimensions: 47821000 bytes\n",
      "2019-11-12 23:19:06,736 : INFO : resetting layer weights\n",
      "2019-11-12 23:19:11,415 : INFO : training model with 4 workers on 16490 vocabulary and 300 features, using sg=0 hs=0 sample=0.001 negative=5 window=10\n",
      "2019-11-12 23:19:12,458 : INFO : EPOCH 1 - PROGRESS: at 2.34% examples, 293543 words/s, in_qsize 5, out_qsize 2\n",
      "2019-11-12 23:19:13,483 : INFO : EPOCH 1 - PROGRESS: at 5.31% examples, 331788 words/s, in_qsize 7, out_qsize 1\n",
      "2019-11-12 23:19:14,519 : INFO : EPOCH 1 - PROGRESS: at 8.67% examples, 357084 words/s, in_qsize 7, out_qsize 2\n",
      "2019-11-12 23:19:15,531 : INFO : EPOCH 1 - PROGRESS: at 11.84% examples, 366642 words/s, in_qsize 6, out_qsize 1\n",
      "2019-11-12 23:19:16,591 : INFO : EPOCH 1 - PROGRESS: at 14.83% examples, 364840 words/s, in_qsize 8, out_qsize 3\n",
      "2019-11-12 23:19:17,599 : INFO : EPOCH 1 - PROGRESS: at 18.13% examples, 372461 words/s, in_qsize 7, out_qsize 0\n",
      "2019-11-12 23:19:18,630 : INFO : EPOCH 1 - PROGRESS: at 21.35% examples, 375740 words/s, in_qsize 7, out_qsize 0\n",
      "2019-11-12 23:19:19,633 : INFO : EPOCH 1 - PROGRESS: at 24.33% examples, 376068 words/s, in_qsize 7, out_qsize 0\n",
      "2019-11-12 23:19:20,662 : INFO : EPOCH 1 - PROGRESS: at 27.47% examples, 377452 words/s, in_qsize 8, out_qsize 0\n",
      "2019-11-12 23:19:21,681 : INFO : EPOCH 1 - PROGRESS: at 30.32% examples, 375440 words/s, in_qsize 7, out_qsize 0\n",
      "2019-11-12 23:19:22,709 : INFO : EPOCH 1 - PROGRESS: at 32.86% examples, 369077 words/s, in_qsize 8, out_qsize 1\n",
      "2019-11-12 23:19:23,722 : INFO : EPOCH 1 - PROGRESS: at 35.78% examples, 368884 words/s, in_qsize 8, out_qsize 1\n",
      "2019-11-12 23:19:24,782 : INFO : EPOCH 1 - PROGRESS: at 38.79% examples, 368560 words/s, in_qsize 8, out_qsize 2\n",
      "2019-11-12 23:19:25,848 : INFO : EPOCH 1 - PROGRESS: at 41.09% examples, 361658 words/s, in_qsize 6, out_qsize 1\n",
      "2019-11-12 23:19:26,865 : INFO : EPOCH 1 - PROGRESS: at 43.81% examples, 360519 words/s, in_qsize 7, out_qsize 0\n",
      "2019-11-12 23:19:27,866 : INFO : EPOCH 1 - PROGRESS: at 46.27% examples, 357704 words/s, in_qsize 7, out_qsize 0\n",
      "2019-11-12 23:19:28,867 : INFO : EPOCH 1 - PROGRESS: at 49.21% examples, 358939 words/s, in_qsize 5, out_qsize 2\n",
      "2019-11-12 23:19:29,898 : INFO : EPOCH 1 - PROGRESS: at 52.43% examples, 360955 words/s, in_qsize 7, out_qsize 0\n",
      "2019-11-12 23:19:30,909 : INFO : EPOCH 1 - PROGRESS: at 54.87% examples, 358372 words/s, in_qsize 8, out_qsize 0\n",
      "2019-11-12 23:19:31,916 : INFO : EPOCH 1 - PROGRESS: at 57.52% examples, 357482 words/s, in_qsize 7, out_qsize 0\n",
      "2019-11-12 23:19:32,926 : INFO : EPOCH 1 - PROGRESS: at 60.19% examples, 356640 words/s, in_qsize 7, out_qsize 2\n",
      "2019-11-12 23:19:33,927 : INFO : EPOCH 1 - PROGRESS: at 63.21% examples, 357933 words/s, in_qsize 7, out_qsize 0\n",
      "2019-11-12 23:19:34,976 : INFO : EPOCH 1 - PROGRESS: at 65.84% examples, 356264 words/s, in_qsize 6, out_qsize 1\n",
      "2019-11-12 23:19:35,993 : INFO : EPOCH 1 - PROGRESS: at 68.50% examples, 355220 words/s, in_qsize 7, out_qsize 0\n",
      "2019-11-12 23:19:37,032 : INFO : EPOCH 1 - PROGRESS: at 70.66% examples, 351709 words/s, in_qsize 8, out_qsize 0\n",
      "2019-11-12 23:19:38,064 : INFO : EPOCH 1 - PROGRESS: at 73.34% examples, 350978 words/s, in_qsize 7, out_qsize 0\n",
      "2019-11-12 23:19:39,096 : INFO : EPOCH 1 - PROGRESS: at 76.38% examples, 351833 words/s, in_qsize 8, out_qsize 0\n",
      "2019-11-12 23:19:40,104 : INFO : EPOCH 1 - PROGRESS: at 79.29% examples, 352426 words/s, in_qsize 8, out_qsize 0\n",
      "2019-11-12 23:19:41,111 : INFO : EPOCH 1 - PROGRESS: at 82.09% examples, 352510 words/s, in_qsize 7, out_qsize 0\n",
      "2019-11-12 23:19:42,139 : INFO : EPOCH 1 - PROGRESS: at 84.78% examples, 351905 words/s, in_qsize 8, out_qsize 0\n",
      "2019-11-12 23:19:43,182 : INFO : EPOCH 1 - PROGRESS: at 87.64% examples, 351825 words/s, in_qsize 8, out_qsize 1\n",
      "2019-11-12 23:19:44,187 : INFO : EPOCH 1 - PROGRESS: at 89.96% examples, 350196 words/s, in_qsize 7, out_qsize 0\n",
      "2019-11-12 23:19:45,200 : INFO : EPOCH 1 - PROGRESS: at 92.27% examples, 348389 words/s, in_qsize 8, out_qsize 1\n",
      "2019-11-12 23:19:46,227 : INFO : EPOCH 1 - PROGRESS: at 95.18% examples, 348593 words/s, in_qsize 6, out_qsize 1\n",
      "2019-11-12 23:19:47,253 : INFO : EPOCH 1 - PROGRESS: at 98.28% examples, 349790 words/s, in_qsize 7, out_qsize 0\n",
      "2019-11-12 23:19:47,771 : INFO : worker thread finished; awaiting finish of 3 more threads\n",
      "2019-11-12 23:19:47,797 : INFO : worker thread finished; awaiting finish of 2 more threads\n",
      "2019-11-12 23:19:47,801 : INFO : worker thread finished; awaiting finish of 1 more threads\n",
      "2019-11-12 23:19:47,810 : INFO : worker thread finished; awaiting finish of 0 more threads\n",
      "2019-11-12 23:19:47,811 : INFO : EPOCH - 1 : training on 17798269 raw words (12749860 effective words) took 36.4s, 350500 effective words/s\n",
      "2019-11-12 23:19:48,848 : INFO : EPOCH 2 - PROGRESS: at 2.97% examples, 368053 words/s, in_qsize 6, out_qsize 1\n",
      "2019-11-12 23:19:49,930 : INFO : EPOCH 2 - PROGRESS: at 5.65% examples, 342182 words/s, in_qsize 6, out_qsize 1\n",
      "2019-11-12 23:19:50,949 : INFO : EPOCH 2 - PROGRESS: at 8.05% examples, 326524 words/s, in_qsize 7, out_qsize 0\n",
      "2019-11-12 23:19:51,954 : INFO : EPOCH 2 - PROGRESS: at 10.26% examples, 314640 words/s, in_qsize 7, out_qsize 0\n",
      "2019-11-12 23:19:52,968 : INFO : EPOCH 2 - PROGRESS: at 12.74% examples, 313806 words/s, in_qsize 7, out_qsize 0\n",
      "2019-11-12 23:19:53,985 : INFO : EPOCH 2 - PROGRESS: at 15.56% examples, 320038 words/s, in_qsize 7, out_qsize 0\n",
      "2019-11-12 23:19:55,016 : INFO : EPOCH 2 - PROGRESS: at 18.24% examples, 320884 words/s, in_qsize 7, out_qsize 0\n",
      "2019-11-12 23:19:56,031 : INFO : EPOCH 2 - PROGRESS: at 20.78% examples, 320392 words/s, in_qsize 7, out_qsize 0\n",
      "2019-11-12 23:19:57,059 : INFO : EPOCH 2 - PROGRESS: at 23.76% examples, 325846 words/s, in_qsize 7, out_qsize 0\n",
      "2019-11-12 23:19:58,075 : INFO : EPOCH 2 - PROGRESS: at 26.91% examples, 332557 words/s, in_qsize 7, out_qsize 0\n",
      "2019-11-12 23:19:59,096 : INFO : EPOCH 2 - PROGRESS: at 30.15% examples, 339187 words/s, in_qsize 7, out_qsize 0\n",
      "2019-11-12 23:20:00,114 : INFO : EPOCH 2 - PROGRESS: at 32.46% examples, 334352 words/s, in_qsize 7, out_qsize 0\n",
      "2019-11-12 23:20:01,144 : INFO : EPOCH 2 - PROGRESS: at 34.44% examples, 327255 words/s, in_qsize 8, out_qsize 3\n",
      "2019-11-12 23:20:02,159 : INFO : EPOCH 2 - PROGRESS: at 37.06% examples, 327523 words/s, in_qsize 7, out_qsize 0\n",
      "2019-11-12 23:20:03,169 : INFO : EPOCH 2 - PROGRESS: at 39.31% examples, 324637 words/s, in_qsize 8, out_qsize 0\n",
      "2019-11-12 23:20:04,195 : INFO : EPOCH 2 - PROGRESS: at 41.86% examples, 324384 words/s, in_qsize 8, out_qsize 0\n",
      "2019-11-12 23:20:05,210 : INFO : EPOCH 2 - PROGRESS: at 44.56% examples, 325229 words/s, in_qsize 6, out_qsize 1\n",
      "2019-11-12 23:20:06,224 : INFO : EPOCH 2 - PROGRESS: at 47.28% examples, 326322 words/s, in_qsize 7, out_qsize 0\n",
      "2019-11-12 23:20:07,227 : INFO : EPOCH 2 - PROGRESS: at 49.99% examples, 327516 words/s, in_qsize 7, out_qsize 0\n"
     ]
    },
    {
     "name": "stderr",
     "output_type": "stream",
     "text": [
      "2019-11-12 23:20:08,248 : INFO : EPOCH 2 - PROGRESS: at 52.89% examples, 329020 words/s, in_qsize 7, out_qsize 1\n",
      "2019-11-12 23:20:09,248 : INFO : EPOCH 2 - PROGRESS: at 55.26% examples, 327995 words/s, in_qsize 7, out_qsize 0\n",
      "2019-11-12 23:20:10,250 : INFO : EPOCH 2 - PROGRESS: at 57.84% examples, 328303 words/s, in_qsize 7, out_qsize 0\n",
      "2019-11-12 23:20:11,265 : INFO : EPOCH 2 - PROGRESS: at 60.12% examples, 326602 words/s, in_qsize 7, out_qsize 0\n",
      "2019-11-12 23:20:12,279 : INFO : EPOCH 2 - PROGRESS: at 61.97% examples, 322724 words/s, in_qsize 8, out_qsize 2\n",
      "2019-11-12 23:20:13,314 : INFO : EPOCH 2 - PROGRESS: at 63.89% examples, 319142 words/s, in_qsize 8, out_qsize 0\n",
      "2019-11-12 23:20:14,327 : INFO : EPOCH 2 - PROGRESS: at 66.28% examples, 318554 words/s, in_qsize 8, out_qsize 1\n",
      "2019-11-12 23:20:15,328 : INFO : EPOCH 2 - PROGRESS: at 69.31% examples, 321023 words/s, in_qsize 8, out_qsize 1\n",
      "2019-11-12 23:20:16,330 : INFO : EPOCH 2 - PROGRESS: at 72.66% examples, 324787 words/s, in_qsize 7, out_qsize 0\n",
      "2019-11-12 23:20:17,330 : INFO : EPOCH 2 - PROGRESS: at 75.70% examples, 326864 words/s, in_qsize 7, out_qsize 0\n",
      "2019-11-12 23:20:18,366 : INFO : EPOCH 2 - PROGRESS: at 78.00% examples, 325398 words/s, in_qsize 7, out_qsize 1\n",
      "2019-11-12 23:20:19,368 : INFO : EPOCH 2 - PROGRESS: at 80.02% examples, 323209 words/s, in_qsize 7, out_qsize 0\n",
      "2019-11-12 23:20:20,380 : INFO : EPOCH 2 - PROGRESS: at 81.86% examples, 320418 words/s, in_qsize 6, out_qsize 1\n",
      "2019-11-12 23:20:21,386 : INFO : EPOCH 2 - PROGRESS: at 83.45% examples, 316784 words/s, in_qsize 5, out_qsize 2\n",
      "2019-11-12 23:20:22,388 : INFO : EPOCH 2 - PROGRESS: at 85.46% examples, 315057 words/s, in_qsize 7, out_qsize 0\n",
      "2019-11-12 23:20:23,451 : INFO : EPOCH 2 - PROGRESS: at 87.20% examples, 311873 words/s, in_qsize 8, out_qsize 3\n",
      "2019-11-12 23:20:24,489 : INFO : EPOCH 2 - PROGRESS: at 89.15% examples, 309865 words/s, in_qsize 7, out_qsize 0\n",
      "2019-11-12 23:20:25,507 : INFO : EPOCH 2 - PROGRESS: at 90.82% examples, 307192 words/s, in_qsize 8, out_qsize 0\n",
      "2019-11-12 23:20:26,508 : INFO : EPOCH 2 - PROGRESS: at 92.51% examples, 304798 words/s, in_qsize 7, out_qsize 0\n",
      "2019-11-12 23:20:27,564 : INFO : EPOCH 2 - PROGRESS: at 94.15% examples, 301916 words/s, in_qsize 6, out_qsize 2\n",
      "2019-11-12 23:20:28,589 : INFO : EPOCH 2 - PROGRESS: at 96.30% examples, 301100 words/s, in_qsize 7, out_qsize 0\n",
      "2019-11-12 23:20:29,576 : INFO : EPOCH 2 - PROGRESS: at 99.00% examples, 302265 words/s, in_qsize 7, out_qsize 0\n",
      "2019-11-12 23:20:29,828 : INFO : worker thread finished; awaiting finish of 3 more threads\n",
      "2019-11-12 23:20:29,846 : INFO : worker thread finished; awaiting finish of 2 more threads\n",
      "2019-11-12 23:20:29,872 : INFO : worker thread finished; awaiting finish of 1 more threads\n",
      "2019-11-12 23:20:29,874 : INFO : worker thread finished; awaiting finish of 0 more threads\n",
      "2019-11-12 23:20:29,875 : INFO : EPOCH - 2 : training on 17798269 raw words (12749757 effective words) took 42.1s, 303160 effective words/s\n",
      "2019-11-12 23:20:30,886 : INFO : EPOCH 3 - PROGRESS: at 2.74% examples, 349607 words/s, in_qsize 7, out_qsize 0\n",
      "2019-11-12 23:20:31,925 : INFO : EPOCH 3 - PROGRESS: at 5.87% examples, 367614 words/s, in_qsize 6, out_qsize 1\n",
      "2019-11-12 23:20:33,004 : INFO : EPOCH 3 - PROGRESS: at 8.28% examples, 336788 words/s, in_qsize 7, out_qsize 0\n",
      "2019-11-12 23:20:34,059 : INFO : EPOCH 3 - PROGRESS: at 10.14% examples, 308223 words/s, in_qsize 7, out_qsize 2\n",
      "2019-11-12 23:20:35,090 : INFO : EPOCH 3 - PROGRESS: at 12.45% examples, 303540 words/s, in_qsize 7, out_qsize 0\n",
      "2019-11-12 23:20:36,111 : INFO : EPOCH 3 - PROGRESS: at 15.56% examples, 317012 words/s, in_qsize 6, out_qsize 1\n",
      "2019-11-12 23:20:37,113 : INFO : EPOCH 3 - PROGRESS: at 18.58% examples, 325432 words/s, in_qsize 7, out_qsize 0\n",
      "2019-11-12 23:20:38,132 : INFO : EPOCH 3 - PROGRESS: at 20.96% examples, 321621 words/s, in_qsize 6, out_qsize 0\n",
      "2019-11-12 23:20:39,179 : INFO : EPOCH 3 - PROGRESS: at 23.82% examples, 324684 words/s, in_qsize 8, out_qsize 1\n",
      "2019-11-12 23:20:40,216 : INFO : EPOCH 3 - PROGRESS: at 26.30% examples, 322512 words/s, in_qsize 7, out_qsize 0\n",
      "2019-11-12 23:20:41,231 : INFO : EPOCH 3 - PROGRESS: at 28.98% examples, 323844 words/s, in_qsize 8, out_qsize 0\n",
      "2019-11-12 23:20:42,298 : INFO : EPOCH 3 - PROGRESS: at 31.85% examples, 324789 words/s, in_qsize 6, out_qsize 3\n",
      "2019-11-12 23:20:43,317 : INFO : EPOCH 3 - PROGRESS: at 34.11% examples, 321408 words/s, in_qsize 5, out_qsize 1\n",
      "2019-11-12 23:20:44,329 : INFO : EPOCH 3 - PROGRESS: at 36.73% examples, 322153 words/s, in_qsize 8, out_qsize 1\n",
      "2019-11-12 23:20:45,331 : INFO : EPOCH 3 - PROGRESS: at 39.25% examples, 322146 words/s, in_qsize 7, out_qsize 0\n",
      "2019-11-12 23:20:46,336 : INFO : EPOCH 3 - PROGRESS: at 41.65% examples, 321159 words/s, in_qsize 7, out_qsize 0\n",
      "2019-11-12 23:20:47,360 : INFO : EPOCH 3 - PROGRESS: at 45.00% examples, 326907 words/s, in_qsize 7, out_qsize 0\n",
      "2019-11-12 23:20:48,370 : INFO : EPOCH 3 - PROGRESS: at 48.06% examples, 330306 words/s, in_qsize 7, out_qsize 0\n",
      "2019-11-12 23:20:49,383 : INFO : EPOCH 3 - PROGRESS: at 49.77% examples, 324530 words/s, in_qsize 7, out_qsize 0\n",
      "2019-11-12 23:20:50,411 : INFO : EPOCH 3 - PROGRESS: at 51.65% examples, 319792 words/s, in_qsize 7, out_qsize 0\n",
      "2019-11-12 23:20:51,424 : INFO : EPOCH 3 - PROGRESS: at 53.88% examples, 318014 words/s, in_qsize 7, out_qsize 0\n",
      "2019-11-12 23:20:52,441 : INFO : EPOCH 3 - PROGRESS: at 56.49% examples, 318553 words/s, in_qsize 7, out_qsize 0\n",
      "2019-11-12 23:20:53,442 : INFO : EPOCH 3 - PROGRESS: at 59.67% examples, 322634 words/s, in_qsize 8, out_qsize 0\n",
      "2019-11-12 23:20:54,457 : INFO : EPOCH 3 - PROGRESS: at 61.92% examples, 320939 words/s, in_qsize 8, out_qsize 0\n",
      "2019-11-12 23:20:55,483 : INFO : EPOCH 3 - PROGRESS: at 64.50% examples, 320916 words/s, in_qsize 7, out_qsize 0\n",
      "2019-11-12 23:20:56,504 : INFO : EPOCH 3 - PROGRESS: at 66.85% examples, 319909 words/s, in_qsize 5, out_qsize 2\n",
      "2019-11-12 23:20:57,509 : INFO : EPOCH 3 - PROGRESS: at 69.87% examples, 322252 words/s, in_qsize 7, out_qsize 0\n",
      "2019-11-12 23:20:58,520 : INFO : EPOCH 3 - PROGRESS: at 73.00% examples, 324877 words/s, in_qsize 6, out_qsize 1\n",
      "2019-11-12 23:20:59,524 : INFO : EPOCH 3 - PROGRESS: at 76.05% examples, 326895 words/s, in_qsize 7, out_qsize 0\n",
      "2019-11-12 23:21:00,528 : INFO : EPOCH 3 - PROGRESS: at 78.72% examples, 327390 words/s, in_qsize 5, out_qsize 2\n",
      "2019-11-12 23:21:01,553 : INFO : EPOCH 3 - PROGRESS: at 80.81% examples, 325136 words/s, in_qsize 7, out_qsize 0\n",
      "2019-11-12 23:21:02,555 : INFO : EPOCH 3 - PROGRESS: at 82.88% examples, 323268 words/s, in_qsize 6, out_qsize 1\n",
      "2019-11-12 23:21:03,570 : INFO : EPOCH 3 - PROGRESS: at 85.00% examples, 321585 words/s, in_qsize 8, out_qsize 1\n",
      "2019-11-12 23:21:04,647 : INFO : EPOCH 3 - PROGRESS: at 87.42% examples, 320465 words/s, in_qsize 7, out_qsize 1\n",
      "2019-11-12 23:21:05,649 : INFO : EPOCH 3 - PROGRESS: at 90.23% examples, 321674 words/s, in_qsize 5, out_qsize 2\n",
      "2019-11-12 23:21:06,659 : INFO : EPOCH 3 - PROGRESS: at 92.95% examples, 322174 words/s, in_qsize 7, out_qsize 0\n",
      "2019-11-12 23:21:07,688 : INFO : EPOCH 3 - PROGRESS: at 96.19% examples, 324186 words/s, in_qsize 7, out_qsize 0\n",
      "2019-11-12 23:21:08,706 : INFO : EPOCH 3 - PROGRESS: at 98.34% examples, 322884 words/s, in_qsize 7, out_qsize 0\n",
      "2019-11-12 23:21:09,149 : INFO : worker thread finished; awaiting finish of 3 more threads\n",
      "2019-11-12 23:21:09,164 : INFO : worker thread finished; awaiting finish of 2 more threads\n",
      "2019-11-12 23:21:09,177 : INFO : worker thread finished; awaiting finish of 1 more threads\n",
      "2019-11-12 23:21:09,190 : INFO : worker thread finished; awaiting finish of 0 more threads\n",
      "2019-11-12 23:21:09,190 : INFO : EPOCH - 3 : training on 17798269 raw words (12749380 effective words) took 39.3s, 324349 effective words/s\n",
      "2019-11-12 23:21:10,224 : INFO : EPOCH 4 - PROGRESS: at 3.14% examples, 390348 words/s, in_qsize 8, out_qsize 1\n",
      "2019-11-12 23:21:11,243 : INFO : EPOCH 4 - PROGRESS: at 6.40% examples, 398593 words/s, in_qsize 6, out_qsize 1\n",
      "2019-11-12 23:21:12,243 : INFO : EPOCH 4 - PROGRESS: at 9.63% examples, 401342 words/s, in_qsize 7, out_qsize 0\n",
      "2019-11-12 23:21:13,275 : INFO : EPOCH 4 - PROGRESS: at 11.67% examples, 362948 words/s, in_qsize 6, out_qsize 1\n"
     ]
    },
    {
     "name": "stderr",
     "output_type": "stream",
     "text": [
      "2019-11-12 23:21:14,294 : INFO : EPOCH 4 - PROGRESS: at 14.22% examples, 353675 words/s, in_qsize 7, out_qsize 0\n",
      "2019-11-12 23:21:15,295 : INFO : EPOCH 4 - PROGRESS: at 17.41% examples, 361259 words/s, in_qsize 6, out_qsize 1\n",
      "2019-11-12 23:21:16,300 : INFO : EPOCH 4 - PROGRESS: at 20.78% examples, 370443 words/s, in_qsize 7, out_qsize 0\n",
      "2019-11-12 23:21:17,329 : INFO : EPOCH 4 - PROGRESS: at 24.10% examples, 375494 words/s, in_qsize 7, out_qsize 0\n",
      "2019-11-12 23:21:18,360 : INFO : EPOCH 4 - PROGRESS: at 26.86% examples, 371437 words/s, in_qsize 6, out_qsize 1\n",
      "2019-11-12 23:21:19,374 : INFO : EPOCH 4 - PROGRESS: at 29.21% examples, 363885 words/s, in_qsize 7, out_qsize 0\n",
      "2019-11-12 23:21:20,408 : INFO : EPOCH 4 - PROGRESS: at 31.62% examples, 357107 words/s, in_qsize 7, out_qsize 0\n",
      "2019-11-12 23:21:21,413 : INFO : EPOCH 4 - PROGRESS: at 33.72% examples, 349356 words/s, in_qsize 8, out_qsize 0\n",
      "2019-11-12 23:21:22,437 : INFO : EPOCH 4 - PROGRESS: at 35.61% examples, 340696 words/s, in_qsize 7, out_qsize 0\n",
      "2019-11-12 23:21:23,459 : INFO : EPOCH 4 - PROGRESS: at 37.56% examples, 333850 words/s, in_qsize 7, out_qsize 0\n",
      "2019-11-12 23:21:24,484 : INFO : EPOCH 4 - PROGRESS: at 39.19% examples, 325040 words/s, in_qsize 6, out_qsize 1\n",
      "2019-11-12 23:21:25,512 : INFO : EPOCH 4 - PROGRESS: at 40.98% examples, 318562 words/s, in_qsize 8, out_qsize 0\n",
      "2019-11-12 23:21:26,523 : INFO : EPOCH 4 - PROGRESS: at 42.52% examples, 311556 words/s, in_qsize 6, out_qsize 1\n",
      "2019-11-12 23:21:27,553 : INFO : EPOCH 4 - PROGRESS: at 44.15% examples, 305364 words/s, in_qsize 8, out_qsize 0\n",
      "2019-11-12 23:21:28,564 : INFO : EPOCH 4 - PROGRESS: at 45.77% examples, 300124 words/s, in_qsize 7, out_qsize 0\n",
      "2019-11-12 23:21:29,594 : INFO : EPOCH 4 - PROGRESS: at 48.16% examples, 300026 words/s, in_qsize 6, out_qsize 1\n",
      "2019-11-12 23:21:30,617 : INFO : EPOCH 4 - PROGRESS: at 50.28% examples, 298389 words/s, in_qsize 7, out_qsize 0\n",
      "2019-11-12 23:21:31,624 : INFO : EPOCH 4 - PROGRESS: at 52.83% examples, 299345 words/s, in_qsize 7, out_qsize 0\n",
      "2019-11-12 23:21:32,687 : INFO : EPOCH 4 - PROGRESS: at 54.87% examples, 297037 words/s, in_qsize 5, out_qsize 2\n",
      "2019-11-12 23:21:33,706 : INFO : EPOCH 4 - PROGRESS: at 56.77% examples, 294615 words/s, in_qsize 7, out_qsize 0\n",
      "2019-11-12 23:21:34,714 : INFO : EPOCH 4 - PROGRESS: at 59.45% examples, 296713 words/s, in_qsize 7, out_qsize 0\n",
      "2019-11-12 23:21:35,728 : INFO : EPOCH 4 - PROGRESS: at 62.77% examples, 301272 words/s, in_qsize 8, out_qsize 2\n",
      "2019-11-12 23:21:36,740 : INFO : EPOCH 4 - PROGRESS: at 66.17% examples, 306050 words/s, in_qsize 7, out_qsize 0\n",
      "2019-11-12 23:21:37,790 : INFO : EPOCH 4 - PROGRESS: at 69.53% examples, 309824 words/s, in_qsize 6, out_qsize 1\n",
      "2019-11-12 23:21:38,818 : INFO : EPOCH 4 - PROGRESS: at 72.95% examples, 313805 words/s, in_qsize 7, out_qsize 1\n",
      "2019-11-12 23:21:39,841 : INFO : EPOCH 4 - PROGRESS: at 76.27% examples, 317097 words/s, in_qsize 6, out_qsize 1\n",
      "2019-11-12 23:21:40,855 : INFO : EPOCH 4 - PROGRESS: at 79.75% examples, 320942 words/s, in_qsize 7, out_qsize 0\n",
      "2019-11-12 23:21:41,871 : INFO : EPOCH 4 - PROGRESS: at 82.88% examples, 323201 words/s, in_qsize 7, out_qsize 0\n",
      "2019-11-12 23:21:42,874 : INFO : EPOCH 4 - PROGRESS: at 86.08% examples, 325695 words/s, in_qsize 8, out_qsize 0\n",
      "2019-11-12 23:21:43,875 : INFO : EPOCH 4 - PROGRESS: at 89.37% examples, 328442 words/s, in_qsize 7, out_qsize 0\n",
      "2019-11-12 23:21:44,900 : INFO : EPOCH 4 - PROGRESS: at 92.28% examples, 329432 words/s, in_qsize 7, out_qsize 0\n",
      "2019-11-12 23:21:45,949 : INFO : EPOCH 4 - PROGRESS: at 94.77% examples, 328599 words/s, in_qsize 6, out_qsize 1\n",
      "2019-11-12 23:21:46,951 : INFO : EPOCH 4 - PROGRESS: at 97.89% examples, 330491 words/s, in_qsize 7, out_qsize 0\n",
      "2019-11-12 23:21:47,520 : INFO : worker thread finished; awaiting finish of 3 more threads\n",
      "2019-11-12 23:21:47,522 : INFO : worker thread finished; awaiting finish of 2 more threads\n",
      "2019-11-12 23:21:47,546 : INFO : worker thread finished; awaiting finish of 1 more threads\n",
      "2019-11-12 23:21:47,554 : INFO : worker thread finished; awaiting finish of 0 more threads\n",
      "2019-11-12 23:21:47,554 : INFO : EPOCH - 4 : training on 17798269 raw words (12748538 effective words) took 38.4s, 332367 effective words/s\n",
      "2019-11-12 23:21:48,582 : INFO : EPOCH 5 - PROGRESS: at 2.68% examples, 336193 words/s, in_qsize 7, out_qsize 0\n",
      "2019-11-12 23:21:49,618 : INFO : EPOCH 5 - PROGRESS: at 5.87% examples, 364706 words/s, in_qsize 7, out_qsize 0\n",
      "2019-11-12 23:21:50,634 : INFO : EPOCH 5 - PROGRESS: at 9.12% examples, 376716 words/s, in_qsize 8, out_qsize 0\n",
      "2019-11-12 23:21:51,640 : INFO : EPOCH 5 - PROGRESS: at 11.79% examples, 366270 words/s, in_qsize 7, out_qsize 0\n",
      "2019-11-12 23:21:52,654 : INFO : EPOCH 5 - PROGRESS: at 14.39% examples, 358032 words/s, in_qsize 8, out_qsize 0\n",
      "2019-11-12 23:21:53,673 : INFO : EPOCH 5 - PROGRESS: at 17.46% examples, 361535 words/s, in_qsize 7, out_qsize 0\n",
      "2019-11-12 23:21:54,689 : INFO : EPOCH 5 - PROGRESS: at 20.73% examples, 368172 words/s, in_qsize 6, out_qsize 1\n",
      "2019-11-12 23:21:55,702 : INFO : EPOCH 5 - PROGRESS: at 24.09% examples, 375140 words/s, in_qsize 7, out_qsize 0\n",
      "2019-11-12 23:21:56,704 : INFO : EPOCH 5 - PROGRESS: at 27.47% examples, 380879 words/s, in_qsize 7, out_qsize 0\n",
      "2019-11-12 23:21:57,710 : INFO : EPOCH 5 - PROGRESS: at 30.92% examples, 386073 words/s, in_qsize 7, out_qsize 0\n",
      "2019-11-12 23:21:58,736 : INFO : EPOCH 5 - PROGRESS: at 34.44% examples, 390260 words/s, in_qsize 7, out_qsize 0\n",
      "2019-11-12 23:21:59,743 : INFO : EPOCH 5 - PROGRESS: at 37.84% examples, 393836 words/s, in_qsize 7, out_qsize 0\n",
      "2019-11-12 23:22:00,754 : INFO : EPOCH 5 - PROGRESS: at 41.27% examples, 396743 words/s, in_qsize 7, out_qsize 0\n",
      "2019-11-12 23:22:01,768 : INFO : EPOCH 5 - PROGRESS: at 44.50% examples, 397621 words/s, in_qsize 8, out_qsize 1\n",
      "2019-11-12 23:22:02,782 : INFO : EPOCH 5 - PROGRESS: at 47.50% examples, 396501 words/s, in_qsize 8, out_qsize 0\n",
      "2019-11-12 23:22:03,785 : INFO : EPOCH 5 - PROGRESS: at 50.45% examples, 395367 words/s, in_qsize 7, out_qsize 0\n",
      "2019-11-12 23:22:04,849 : INFO : EPOCH 5 - PROGRESS: at 52.78% examples, 387991 words/s, in_qsize 8, out_qsize 0\n",
      "2019-11-12 23:22:05,896 : INFO : EPOCH 5 - PROGRESS: at 55.16% examples, 382615 words/s, in_qsize 8, out_qsize 1\n",
      "2019-11-12 23:22:06,913 : INFO : EPOCH 5 - PROGRESS: at 57.31% examples, 376867 words/s, in_qsize 7, out_qsize 0\n",
      "2019-11-12 23:22:07,918 : INFO : EPOCH 5 - PROGRESS: at 60.06% examples, 375835 words/s, in_qsize 7, out_qsize 0\n",
      "2019-11-12 23:22:08,919 : INFO : EPOCH 5 - PROGRESS: at 63.39% examples, 377962 words/s, in_qsize 6, out_qsize 1\n",
      "2019-11-12 23:22:09,949 : INFO : EPOCH 5 - PROGRESS: at 66.85% examples, 380374 words/s, in_qsize 7, out_qsize 0\n",
      "2019-11-12 23:22:10,962 : INFO : EPOCH 5 - PROGRESS: at 69.25% examples, 377070 words/s, in_qsize 7, out_qsize 0\n",
      "2019-11-12 23:22:11,988 : INFO : EPOCH 5 - PROGRESS: at 71.93% examples, 375295 words/s, in_qsize 6, out_qsize 1\n",
      "2019-11-12 23:22:13,007 : INFO : EPOCH 5 - PROGRESS: at 74.12% examples, 371219 words/s, in_qsize 8, out_qsize 0\n",
      "2019-11-12 23:22:14,010 : INFO : EPOCH 5 - PROGRESS: at 76.88% examples, 370390 words/s, in_qsize 7, out_qsize 0\n",
      "2019-11-12 23:22:15,028 : INFO : EPOCH 5 - PROGRESS: at 79.24% examples, 367595 words/s, in_qsize 6, out_qsize 1\n",
      "2019-11-12 23:22:16,050 : INFO : EPOCH 5 - PROGRESS: at 81.32% examples, 363685 words/s, in_qsize 6, out_qsize 1\n",
      "2019-11-12 23:22:17,068 : INFO : EPOCH 5 - PROGRESS: at 84.28% examples, 363986 words/s, in_qsize 6, out_qsize 1\n",
      "2019-11-12 23:22:18,089 : INFO : EPOCH 5 - PROGRESS: at 86.75% examples, 362104 words/s, in_qsize 8, out_qsize 3\n",
      "2019-11-12 23:22:19,122 : INFO : EPOCH 5 - PROGRESS: at 89.63% examples, 362034 words/s, in_qsize 6, out_qsize 1\n",
      "2019-11-12 23:22:20,134 : INFO : EPOCH 5 - PROGRESS: at 92.62% examples, 362439 words/s, in_qsize 7, out_qsize 0\n",
      "2019-11-12 23:22:21,151 : INFO : EPOCH 5 - PROGRESS: at 94.65% examples, 359125 words/s, in_qsize 6, out_qsize 1\n",
      "2019-11-12 23:22:22,152 : INFO : EPOCH 5 - PROGRESS: at 97.29% examples, 358463 words/s, in_qsize 8, out_qsize 0\n",
      "2019-11-12 23:22:23,162 : INFO : EPOCH 5 - PROGRESS: at 99.77% examples, 357341 words/s, in_qsize 4, out_qsize 0\n",
      "2019-11-12 23:22:23,186 : INFO : worker thread finished; awaiting finish of 3 more threads\n"
     ]
    },
    {
     "name": "stderr",
     "output_type": "stream",
     "text": [
      "2019-11-12 23:22:23,194 : INFO : worker thread finished; awaiting finish of 2 more threads\n",
      "2019-11-12 23:22:23,221 : INFO : worker thread finished; awaiting finish of 1 more threads\n",
      "2019-11-12 23:22:23,246 : INFO : worker thread finished; awaiting finish of 0 more threads\n",
      "2019-11-12 23:22:23,249 : INFO : EPOCH - 5 : training on 17798269 raw words (12749625 effective words) took 35.7s, 357261 effective words/s\n",
      "2019-11-12 23:22:23,250 : INFO : training on a 88991345 raw words (63747160 effective words) took 191.8s, 332304 effective words/s\n"
     ]
    }
   ],
   "source": [
    "# Set values for various parameters\n",
    "num_features = 300    # Word vector dimensionality                      \n",
    "min_word_count = 40   # Minimum word count                        \n",
    "num_workers = 4       # Number of threads to run in parallel\n",
    "context = 10          # Context window size                                                                                    \n",
    "downsampling = 1e-3   # Downsample setting for frequent words\n",
    "\n",
    "print (\"Training model...\")\n",
    "model = word2vec.Word2Vec(sentences, workers=num_workers, \\\n",
    "            size=num_features, min_count = min_word_count, \\\n",
    "            window = context, sample = downsampling)\n"
   ]
  },
  {
   "cell_type": "code",
   "execution_count": 31,
   "metadata": {},
   "outputs": [
    {
     "name": "stderr",
     "output_type": "stream",
     "text": [
      "2019-11-12 23:27:15,160 : INFO : precomputing L2-norms of word weight vectors\n",
      "2019-11-12 23:27:15,185 : INFO : saving Word2Vec object under /home/larissa/Documents/Git/Kaggle/kaggle-bag-of-words-popcorn/models/300features_40minwords_10context, separately None\n",
      "2019-11-12 23:27:15,187 : INFO : not storing attribute vectors_norm\n",
      "2019-11-12 23:27:15,190 : INFO : not storing attribute cum_table\n",
      "2019-11-12 23:27:15,639 : INFO : saved /home/larissa/Documents/Git/Kaggle/kaggle-bag-of-words-popcorn/models/300features_40minwords_10context\n"
     ]
    }
   ],
   "source": [
    "# If you don't plan to train the model any further, calling \n",
    "# init_sims will make the model much more memory-efficient.\n",
    "model.init_sims(replace=True)\n",
    "\n",
    "# It can be helpful to create a meaningful model name and \n",
    "# save the model for later use. You can load it later using Word2Vec.load()\n",
    "path_raw = os.getcwd().replace('notebooks', 'models/')\n",
    "model_name = path_raw + \"300features_40minwords_10context\"\n",
    "model.save(model_name)"
   ]
  },
  {
   "cell_type": "code",
   "execution_count": 35,
   "metadata": {},
   "outputs": [
    {
     "name": "stderr",
     "output_type": "stream",
     "text": [
      "/home/larissa/miniconda3/envs/kaggle/lib/python3.7/site-packages/ipykernel_launcher.py:2: DeprecationWarning: Call to deprecated `doesnt_match` (Method will be removed in 4.0.0, use self.wv.doesnt_match() instead).\n",
      "  \n"
     ]
    },
    {
     "data": {
      "text/plain": [
       "'berlin'"
      ]
     },
     "execution_count": 35,
     "metadata": {},
     "output_type": "execute_result"
    }
   ],
   "source": [
    "#The \"doesnt_match\" function will try to deduce which word in a set is most dissimilar from the other\n",
    "model.doesnt_match(\"france england germany berlin\".split())"
   ]
  },
  {
   "cell_type": "code",
   "execution_count": 36,
   "metadata": {},
   "outputs": [
    {
     "name": "stderr",
     "output_type": "stream",
     "text": [
      "/home/larissa/miniconda3/envs/kaggle/lib/python3.7/site-packages/ipykernel_launcher.py:1: DeprecationWarning: Call to deprecated `most_similar` (Method will be removed in 4.0.0, use self.wv.most_similar() instead).\n",
      "  \"\"\"Entry point for launching an IPython kernel.\n"
     ]
    },
    {
     "data": {
      "text/plain": [
       "[('woman', 0.6364747285842896),\n",
       " ('lady', 0.5911375284194946),\n",
       " ('lad', 0.5755161046981812),\n",
       " ('monk', 0.5695915222167969),\n",
       " ('soldier', 0.5397183895111084),\n",
       " ('farmer', 0.5141299962997437),\n",
       " ('businessman', 0.5132678747177124),\n",
       " ('men', 0.5119340419769287),\n",
       " ('guy', 0.5112597942352295),\n",
       " ('person', 0.5017234086990356)]"
      ]
     },
     "execution_count": 36,
     "metadata": {},
     "output_type": "execute_result"
    }
   ],
   "source": [
    "model.most_similar(\"man\")"
   ]
  },
  {
   "cell_type": "code",
   "execution_count": 37,
   "metadata": {},
   "outputs": [
    {
     "name": "stderr",
     "output_type": "stream",
     "text": [
      "/home/larissa/miniconda3/envs/kaggle/lib/python3.7/site-packages/ipykernel_launcher.py:1: DeprecationWarning: Call to deprecated `most_similar` (Method will be removed in 4.0.0, use self.wv.most_similar() instead).\n",
      "  \"\"\"Entry point for launching an IPython kernel.\n"
     ]
    },
    {
     "data": {
      "text/plain": [
       "[('terrible', 0.7591007351875305),\n",
       " ('horrible', 0.7340126633644104),\n",
       " ('atrocious', 0.7267952561378479),\n",
       " ('abysmal', 0.7008300423622131),\n",
       " ('dreadful', 0.6972824335098267),\n",
       " ('horrid', 0.6731525659561157),\n",
       " ('horrendous', 0.6721129417419434),\n",
       " ('appalling', 0.665844202041626),\n",
       " ('lousy', 0.6342982053756714),\n",
       " ('amateurish', 0.6170752048492432)]"
      ]
     },
     "execution_count": 37,
     "metadata": {},
     "output_type": "execute_result"
    }
   ],
   "source": [
    "model.most_similar(\"awful\")"
   ]
  },
  {
   "cell_type": "code",
   "execution_count": 41,
   "metadata": {},
   "outputs": [
    {
     "name": "stderr",
     "output_type": "stream",
     "text": [
      "2019-11-13 22:21:28,761 : INFO : loading Word2Vec object from /home/larissa/Documents/Git/Kaggle/kaggle-bag-of-words-popcorn/models/300features_40minwords_10context\n",
      "2019-11-13 22:21:31,447 : INFO : loading wv recursively from /home/larissa/Documents/Git/Kaggle/kaggle-bag-of-words-popcorn/models/300features_40minwords_10context.wv.* with mmap=None\n",
      "2019-11-13 22:21:31,448 : INFO : setting ignored attribute vectors_norm to None\n",
      "2019-11-13 22:21:31,449 : INFO : loading vocabulary recursively from /home/larissa/Documents/Git/Kaggle/kaggle-bag-of-words-popcorn/models/300features_40minwords_10context.vocabulary.* with mmap=None\n",
      "2019-11-13 22:21:31,450 : INFO : loading trainables recursively from /home/larissa/Documents/Git/Kaggle/kaggle-bag-of-words-popcorn/models/300features_40minwords_10context.trainables.* with mmap=None\n",
      "2019-11-13 22:21:31,452 : INFO : setting ignored attribute cum_table to None\n",
      "2019-11-13 22:21:31,453 : INFO : loaded /home/larissa/Documents/Git/Kaggle/kaggle-bag-of-words-popcorn/models/300features_40minwords_10context\n"
     ]
    }
   ],
   "source": [
    "from gensim.models import Word2Vec\n",
    "model = Word2Vec.load(path_raw + \"300features_40minwords_10context\")"
   ]
  },
  {
   "cell_type": "code",
   "execution_count": 43,
   "metadata": {},
   "outputs": [
    {
     "name": "stderr",
     "output_type": "stream",
     "text": [
      "/home/larissa/miniconda3/envs/kaggle/lib/python3.7/site-packages/ipykernel_launcher.py:1: DeprecationWarning: Call to deprecated `cum_table` (Attribute will be removed in 4.0.0, use self.vocabulary.cum_table instead).\n",
      "  \"\"\"Entry point for launching an IPython kernel.\n"
     ]
    },
    {
     "data": {
      "text/plain": [
       "numpy.ndarray"
      ]
     },
     "execution_count": 43,
     "metadata": {},
     "output_type": "execute_result"
    }
   ],
   "source": [
    "type(model.cum_table)\n"
   ]
  },
  {
   "cell_type": "code",
   "execution_count": 47,
   "metadata": {},
   "outputs": [
    {
     "name": "stderr",
     "output_type": "stream",
     "text": [
      "/home/larissa/miniconda3/envs/kaggle/lib/python3.7/site-packages/ipykernel_launcher.py:1: DeprecationWarning: Call to deprecated `__getitem__` (Method will be removed in 4.0.0, use self.wv.__getitem__() instead).\n",
      "  \"\"\"Entry point for launching an IPython kernel.\n"
     ]
    },
    {
     "data": {
      "text/plain": [
       "(300,)"
      ]
     },
     "execution_count": 47,
     "metadata": {},
     "output_type": "execute_result"
    }
   ],
   "source": [
    "model[\"flower\"]"
   ]
  },
  {
   "cell_type": "markdown",
   "metadata": {},
   "source": [
    "### One challenge with the IMDB dataset is the variable-length reviews. We need to find a way to take individual word vectors and transform them into a feature set that is the same length for every review."
   ]
  },
  {
   "cell_type": "code",
   "execution_count": null,
   "metadata": {},
   "outputs": [],
   "source": [
    "import numpy as np  # Make sure that numpy is imported\n",
    "\n",
    "def makeFeatureVec(words, model, num_features):\n",
    "    # Function to average all of the word vectors in a given\n",
    "    # paragraph\n",
    "    #\n",
    "    # Pre-initialize an empty numpy array (for speed)\n",
    "    featureVec = np.zeros((num_features,),dtype=\"float32\")\n",
    "    #\n",
    "    nwords = 0.\n",
    "    # \n",
    "    # Index2word is a list that contains the names of the words in \n",
    "    # the model's vocabulary. Convert it to a set, for speed \n",
    "    index2word_set = set(model.index2word)\n",
    "    #\n",
    "    # Loop over each word in the review and, if it is in the model's\n",
    "    # vocaublary, add its feature vector to the total\n",
    "    for word in words:\n",
    "        if word in index2word_set: \n",
    "            nwords = nwords + 1.\n",
    "            featureVec = np.add(featureVec,model[word])\n",
    "    # \n",
    "    # Divide the result by the number of words to get the average\n",
    "    featureVec = np.divide(featureVec,nwords)\n",
    "    return featureVec\n",
    "\n",
    "\n",
    "def getAvgFeatureVecs(reviews, model, num_features):\n",
    "    # Given a set of reviews (each one a list of words), calculate \n",
    "    # the average feature vector for each one and return a 2D numpy array \n",
    "    # \n",
    "    # Initialize a counter\n",
    "    counter = 0.\n",
    "    # \n",
    "    # Preallocate a 2D numpy array, for speed\n",
    "    reviewFeatureVecs = np.zeros((len(reviews),num_features),dtype=\"float32\")\n",
    "    # \n",
    "    # Loop through the reviews\n",
    "    for review in reviews:\n",
    "       #\n",
    "       # Print a status message every 1000th review\n",
    "       if counter%1000. == 0.:\n",
    "           print \"Review %d of %d\" % (counter, len(reviews))\n",
    "       # \n",
    "       # Call the function (defined above) that makes average feature vectors\n",
    "       reviewFeatureVecs[counter] = makeFeatureVec(review, model, \\\n",
    "           num_features)\n",
    "       #\n",
    "       # Increment the counter\n",
    "       counter = counter + 1.\n",
    "    return reviewFeatureVecs\n"
   ]
  }
 ],
 "metadata": {
  "kernelspec": {
   "display_name": "Python 3",
   "language": "python",
   "name": "python3"
  },
  "language_info": {
   "codemirror_mode": {
    "name": "ipython",
    "version": 3
   },
   "file_extension": ".py",
   "mimetype": "text/x-python",
   "name": "python",
   "nbconvert_exporter": "python",
   "pygments_lexer": "ipython3",
   "version": "3.7.4"
  }
 },
 "nbformat": 4,
 "nbformat_minor": 2
}
